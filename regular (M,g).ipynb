{
 "cells": [
  {
   "cell_type": "code",
   "execution_count": 1,
   "metadata": {},
   "outputs": [],
   "source": [
    "import numpy as np\n",
    "import pytearcat as pt"
   ]
  },
  {
   "cell_type": "markdown",
   "metadata": {},
   "source": [
    "### Regular (M,g)\n",
    "\n",
    "Dado a métrica \n",
    "\\begin{align}\n",
    "ds^2 = -(1 - 2\\mu(r)/r)dt^2 + (1 - 2\\mu(r)/r)^{-1} dr^2 + r^2 d \\Omega^2,\n",
    "\\end{align}\n",
    "vamos supor\n",
    "\\begin{align}\n",
    "\\mu(r) = \\mu e^{- \\alpha r^2} r^3,\n",
    "\\end{align}\n",
    "de modo que\n",
    "\\begin{align}\n",
    "\\rho(r) = \\frac{\\mu e^{- \\alpha r^2}}{4 \\pi}(3 - 2\\alpha r^2) \\implies \\rho(r = 0) = \\frac{\\mu}{4\\pi/3}.\n",
    "\\end{align}\n",
    "Além disso,\n",
    "\\begin{align}\n",
    "\\rho(r) \\ge 0 \\iff r \\le \\sqrt{\\frac{3}{2\\alpha}} \\ \\ \\ \\text{ou} \\ \\ \\ \\alpha \\le \\frac{3}{2r^2}.\n",
    "\\end{align}\n",
    "Por fim, notemos que\n",
    "\\begin{align}\n",
    "ds^2 = -(1 - 2\\mu r^2e^{- \\alpha r^2})dt^2 + (1 - 2\\mu r^2e^{- \\alpha r^2})^{-1} dr^2 + r^2 d \\Omega^2\n",
    "\\end{align}\n",
    "é assintoticamente plano.\n",
    "\n",
    "Além disso, é possível estender a coordenada radial no intervalo $r \\in (- \\infty, + \\infty)$.\n"
   ]
  },
  {
   "cell_type": "code",
   "execution_count": 2,
   "metadata": {},
   "outputs": [
    {
     "data": {
      "image/png": "[encoded data removed]",
      "text/plain": [
       "<Figure size 432x288 with 1 Axes>"
      ]
     },
     "metadata": {
      "needs_background": "light"
     },
     "output_type": "display_data"
    }
   ],
   "source": [
    "import matplotlib.pyplot as plt\n",
    "\n",
    "r = np.arange(0, 10, 0.1)\n",
    "\n",
    "a = 1\n",
    "m = 1\n",
    "\n",
    "rho = (m*np.exp(-a*r**2)/4*np.pi)*(3 - 2*a*r**2)\n",
    "plt.axvline(x=np.sqrt(3/2), color=\"red\")\n",
    "\n",
    "\n",
    "plt.plot(r, rho, color=\"black\", linewidth=1.5, linestyle=\"-.\")\n",
    "plt.xlabel(r'$r$',fontsize = 14); plt.ylabel(r'$\\rho$', fontsize=14)\n",
    "#plt.savefig('geod.eps', format='eps',dpi = 1200, bbox_inches='tight')\n",
    "plt.show()"
   ]
  },
  {
   "cell_type": "code",
   "execution_count": 2,
   "metadata": {},
   "outputs": [
    {
     "name": "stdout",
     "output_type": "stream",
     "text": [
      "Remember that the time coordinate must be the first coordinate.\n",
      "\n",
      "Dimension = 4\n",
      "Coordinates = t,r,theta,phi\n",
      "Metric defined successfully: \n",
      "\n"
     ]
    },
    {
     "data": {
      "text/latex": [
       "$\\displaystyle ds^2 = \\left(2 \\mu r^{2} e^{- a r^{2}} - 1\\right) \\cdot dt^2+\\frac{1}{- 2 \\mu r^{2} e^{- a r^{2}} + 1} \\cdot dr^2+r^{2} \\cdot d\\theta^2+r^{2} \\sin^{2}{\\left(\\theta \\right)} \\cdot d\\phi^2$"
      ],
      "text/plain": [
       "<IPython.core.display.Math object>"
      ]
     },
     "metadata": {},
     "output_type": "display_data"
    },
    {
     "data": {
      "text/latex": [
       "$\\displaystyle \\left[\\begin{matrix}2 \\mu r^{2} e^{- a r^{2}} - 1 & 0 & 0 & 0\\\\0 & \\frac{1}{- 2 \\mu r^{2} e^{- a r^{2}} + 1} & 0 & 0\\\\0 & 0 & r^{2} & 0\\\\0 & 0 & 0 & r^{2} \\sin^{2}{\\left(\\theta \\right)}\\end{matrix}\\right]$"
      ],
      "text/plain": [
       "Matrix([\n",
       "[2*mu*r**2*exp(-a*r**2) - 1,                               0,    0,                  0],\n",
       "[                         0, 1/(-2*mu*r**2*exp(-a*r**2) + 1),    0,                  0],\n",
       "[                         0,                               0, r**2,                  0],\n",
       "[                         0,                               0,    0, r**2*sin(theta)**2]])"
      ]
     },
     "metadata": {},
     "output_type": "display_data"
    }
   ],
   "source": [
    "t,r,theta,phi = pt.coords('t,r,theta,phi')\n",
    "mu,a = pt.con('mu','a') \n",
    "g = pt.metric('ds2 =-(1 - 2*mu*r**2*exp(-a*r**2))*dt**2 + (1 - 2*mu*r**2*exp(-a*r**2))**(-1)*dr**2 + r**2*dtheta**2 + r**2*(sin(theta))**2*dphi**2 ')\n"
   ]
  },
  {
   "cell_type": "code",
   "execution_count": 3,
   "metadata": {},
   "outputs": [
    {
     "data": {
      "text/latex": [
       "Christoffel $\\Gamma_{\\alpha \\beta \\gamma}$ and $\\Gamma^{\\alpha}_{\\beta \\gamma}$"
      ],
      "text/plain": [
       "<IPython.core.display.Latex object>"
      ]
     },
     "metadata": {},
     "output_type": "display_data"
    },
    {
     "data": {
      "application/vnd.jupyter.widget-view+json": {
       "model_id": "8ad057db953c4dd2a54e7842e66f3876",
       "version_major": 2,
       "version_minor": 0
      },
      "text/plain": [
       "  0%|          | 0/64 [00:00<?, ?it/s]"
      ]
     },
     "metadata": {},
     "output_type": "display_data"
    },
    {
     "data": {
      "text/latex": [
       "$\\displaystyle {\\Gamma}{}^{0}\\,{}_{0}\\,{}_{1}\\, = - \\frac{2 \\mu r \\left(a r^{2} - 1\\right)}{2 \\mu r^{2} - e^{a r^{2}}}$"
      ],
      "text/plain": [
       "<IPython.core.display.Math object>"
      ]
     },
     "metadata": {},
     "output_type": "display_data"
    },
    {
     "data": {
      "text/latex": [
       "$\\displaystyle {\\Gamma}{}^{0}\\,{}_{1}\\,{}_{0}\\, = - \\frac{2 \\mu r \\left(a r^{2} - 1\\right)}{2 \\mu r^{2} - e^{a r^{2}}}$"
      ],
      "text/plain": [
       "<IPython.core.display.Math object>"
      ]
     },
     "metadata": {},
     "output_type": "display_data"
    },
    {
     "data": {
      "text/latex": [
       "$\\displaystyle {\\Gamma}{}^{1}\\,{}_{0}\\,{}_{0}\\, = - 2 \\mu r \\left(a r^{2} - 1\\right) \\left(2 \\mu r^{2} - e^{a r^{2}}\\right) e^{- 2 a r^{2}}$"
      ],
      "text/plain": [
       "<IPython.core.display.Math object>"
      ]
     },
     "metadata": {},
     "output_type": "display_data"
    },
    {
     "data": {
      "text/latex": [
       "$\\displaystyle {\\Gamma}{}^{1}\\,{}_{1}\\,{}_{1}\\, = \\frac{2 \\mu r \\left(a r^{2} - 1\\right)}{2 \\mu r^{2} - e^{a r^{2}}}$"
      ],
      "text/plain": [
       "<IPython.core.display.Math object>"
      ]
     },
     "metadata": {},
     "output_type": "display_data"
    },
    {
     "data": {
      "text/latex": [
       "$\\displaystyle {\\Gamma}{}^{1}\\,{}_{2}\\,{}_{2}\\, = r \\left(2 \\mu r^{2} - e^{a r^{2}}\\right) e^{- a r^{2}}$"
      ],
      "text/plain": [
       "<IPython.core.display.Math object>"
      ]
     },
     "metadata": {},
     "output_type": "display_data"
    },
    {
     "data": {
      "text/latex": [
       "$\\displaystyle {\\Gamma}{}^{1}\\,{}_{3}\\,{}_{3}\\, = r \\left(2 \\mu r^{2} - e^{a r^{2}}\\right) e^{- a r^{2}} \\sin^{2}{\\left(\\theta \\right)}$"
      ],
      "text/plain": [
       "<IPython.core.display.Math object>"
      ]
     },
     "metadata": {},
     "output_type": "display_data"
    },
    {
     "data": {
      "text/latex": [
       "$\\displaystyle {\\Gamma}{}^{2}\\,{}_{1}\\,{}_{2}\\, = \\frac{1}{r}$"
      ],
      "text/plain": [
       "<IPython.core.display.Math object>"
      ]
     },
     "metadata": {},
     "output_type": "display_data"
    },
    {
     "data": {
      "text/latex": [
       "$\\displaystyle {\\Gamma}{}^{2}\\,{}_{2}\\,{}_{1}\\, = \\frac{1}{r}$"
      ],
      "text/plain": [
       "<IPython.core.display.Math object>"
      ]
     },
     "metadata": {},
     "output_type": "display_data"
    },
    {
     "data": {
      "text/latex": [
       "$\\displaystyle {\\Gamma}{}^{2}\\,{}_{3}\\,{}_{3}\\, = - \\sin{\\left(\\theta \\right)} \\cos{\\left(\\theta \\right)}$"
      ],
      "text/plain": [
       "<IPython.core.display.Math object>"
      ]
     },
     "metadata": {},
     "output_type": "display_data"
    },
    {
     "data": {
      "text/latex": [
       "$\\displaystyle {\\Gamma}{}^{3}\\,{}_{1}\\,{}_{3}\\, = \\frac{1}{r}$"
      ],
      "text/plain": [
       "<IPython.core.display.Math object>"
      ]
     },
     "metadata": {},
     "output_type": "display_data"
    },
    {
     "data": {
      "text/latex": [
       "$\\displaystyle {\\Gamma}{}^{3}\\,{}_{2}\\,{}_{3}\\, = \\frac{\\cos{\\left(\\theta \\right)}}{\\sin{\\left(\\theta \\right)}}$"
      ],
      "text/plain": [
       "<IPython.core.display.Math object>"
      ]
     },
     "metadata": {},
     "output_type": "display_data"
    },
    {
     "data": {
      "text/latex": [
       "$\\displaystyle {\\Gamma}{}^{3}\\,{}_{3}\\,{}_{1}\\, = \\frac{1}{r}$"
      ],
      "text/plain": [
       "<IPython.core.display.Math object>"
      ]
     },
     "metadata": {},
     "output_type": "display_data"
    },
    {
     "data": {
      "text/latex": [
       "$\\displaystyle {\\Gamma}{}^{3}\\,{}_{3}\\,{}_{2}\\, = \\frac{\\cos{\\left(\\theta \\right)}}{\\sin{\\left(\\theta \\right)}}$"
      ],
      "text/plain": [
       "<IPython.core.display.Math object>"
      ]
     },
     "metadata": {},
     "output_type": "display_data"
    }
   ],
   "source": [
    "Chr = pt.christoffel()\n",
    "Chr.display('^,_,_',aslist=True)"
   ]
  },
  {
   "cell_type": "code",
   "execution_count": 4,
   "metadata": {},
   "outputs": [
    {
     "data": {
      "text/latex": [
       "Riemann Tensor $R^{\\alpha}_{\\beta \\gamma \\delta}$"
      ],
      "text/plain": [
       "<IPython.core.display.Latex object>"
      ]
     },
     "metadata": {},
     "output_type": "display_data"
    },
    {
     "data": {
      "application/vnd.jupyter.widget-view+json": {
       "model_id": "5b77211f5b03453bbed6439a6b8d7537",
       "version_major": 2,
       "version_minor": 0
      },
      "text/plain": [
       "  0%|          | 0/256 [00:00<?, ?it/s]"
      ]
     },
     "metadata": {},
     "output_type": "display_data"
    },
    {
     "data": {
      "text/latex": [
       "Ricci Tensor $R_{\\alpha \\beta}$"
      ],
      "text/plain": [
       "<IPython.core.display.Latex object>"
      ]
     },
     "metadata": {},
     "output_type": "display_data"
    },
    {
     "data": {
      "application/vnd.jupyter.widget-view+json": {
       "model_id": "3c84939d41a94ee184e88a81a35635c1",
       "version_major": 2,
       "version_minor": 0
      },
      "text/plain": [
       "  0%|          | 0/16 [00:00<?, ?it/s]"
      ]
     },
     "metadata": {},
     "output_type": "display_data"
    },
    {
     "data": {
      "text/latex": [
       "$\\displaystyle {R}{}_{0}\\,{}_{0}\\, = 2 \\mu \\left(a r^{2} - 3\\right) \\left(2 a r^{2} - 1\\right) \\left(2 \\mu r^{2} - e^{a r^{2}}\\right) e^{- 2 a r^{2}}$"
      ],
      "text/plain": [
       "<IPython.core.display.Math object>"
      ]
     },
     "metadata": {},
     "output_type": "display_data"
    },
    {
     "data": {
      "text/latex": [
       "$\\displaystyle {R}{}_{1}\\,{}_{1}\\, = - \\frac{2 \\mu \\left(a r^{2} - 3\\right) \\left(2 a r^{2} - 1\\right)}{2 \\mu r^{2} - e^{a r^{2}}}$"
      ],
      "text/plain": [
       "<IPython.core.display.Math object>"
      ]
     },
     "metadata": {},
     "output_type": "display_data"
    },
    {
     "data": {
      "text/latex": [
       "$\\displaystyle {R}{}_{2}\\,{}_{2}\\, = - 2 \\mu r^{2} \\left(2 a r^{2} - 3\\right) e^{- a r^{2}}$"
      ],
      "text/plain": [
       "<IPython.core.display.Math object>"
      ]
     },
     "metadata": {},
     "output_type": "display_data"
    },
    {
     "data": {
      "text/latex": [
       "$\\displaystyle {R}{}_{3}\\,{}_{3}\\, = - 2 \\mu r^{2} \\left(2 a r^{2} - 3\\right) e^{- a r^{2}} \\sin^{2}{\\left(\\theta \\right)}$"
      ],
      "text/plain": [
       "<IPython.core.display.Math object>"
      ]
     },
     "metadata": {},
     "output_type": "display_data"
    }
   ],
   "source": [
    "Ric = pt.ricci()\n",
    "\n",
    "Ric.display(\"_,_\", aslist = True)"
   ]
  },
  {
   "cell_type": "code",
   "execution_count": 5,
   "metadata": {},
   "outputs": [
    {
     "data": {
      "application/vnd.jupyter.widget-view+json": {
       "model_id": "1b22074ed05d4d57873762f956395b8c",
       "version_major": 2,
       "version_minor": 0
      },
      "text/plain": [
       "  0%|          | 0/16 [00:00<?, ?it/s]"
      ]
     },
     "metadata": {},
     "output_type": "display_data"
    },
    {
     "data": {
      "text/latex": [
       "Ricci Scalar $R$"
      ],
      "text/plain": [
       "<IPython.core.display.Latex object>"
      ]
     },
     "metadata": {},
     "output_type": "display_data"
    },
    {
     "data": {
      "text/latex": [
       "$\\displaystyle 4 \\mu \\left(2 a^{2} r^{4} - 9 a r^{2} + 6\\right) e^{- a r^{2}}$"
      ],
      "text/plain": [
       "<IPython.core.display.Math object>"
      ]
     },
     "metadata": {},
     "output_type": "display_data"
    }
   ],
   "source": [
    "R = pt.riccis()\n",
    "pt.display(R)"
   ]
  },
  {
   "cell_type": "code",
   "execution_count": 6,
   "metadata": {},
   "outputs": [
    {
     "data": {
      "text/latex": [
       "Riemann Tensor $R_{\\alpha \\beta \\gamma \\delta}$ already calculated"
      ],
      "text/plain": [
       "<IPython.core.display.Latex object>"
      ]
     },
     "metadata": {},
     "output_type": "display_data"
    },
    {
     "data": {
      "application/vnd.jupyter.widget-view+json": {
       "model_id": "cfb6627b1e1b4e54b2e7d2bbd7054d9b",
       "version_major": 2,
       "version_minor": 0
      },
      "text/plain": [
       "Riemann Tensor $R{_\\alpha}{_\\beta}{_\\gamma}{_\\delta}$:   0%|          | 0/256 [00:00<?, ?it/s]"
      ]
     },
     "metadata": {},
     "output_type": "display_data"
    },
    {
     "data": {
      "application/vnd.jupyter.widget-view+json": {
       "model_id": "a606a4c6a24548999428ee891aec559a",
       "version_major": 2,
       "version_minor": 0
      },
      "text/plain": [
       "Riemann Tensor $R{^\\alpha}{^\\beta}{_\\gamma}{_\\delta}$:   0%|          | 0/256 [00:00<?, ?it/s]"
      ]
     },
     "metadata": {},
     "output_type": "display_data"
    },
    {
     "data": {
      "application/vnd.jupyter.widget-view+json": {
       "model_id": "ae7c5d6fa6d84c63a07748f6de4bc4d6",
       "version_major": 2,
       "version_minor": 0
      },
      "text/plain": [
       "Riemann Tensor $R{^\\alpha}{^\\beta}{^\\gamma}{_\\delta}$:   0%|          | 0/256 [00:00<?, ?it/s]"
      ]
     },
     "metadata": {},
     "output_type": "display_data"
    },
    {
     "data": {
      "application/vnd.jupyter.widget-view+json": {
       "model_id": "b901572ad99f4dbe9d00351fe2943d49",
       "version_major": 2,
       "version_minor": 0
      },
      "text/plain": [
       "Riemann Tensor $R{^\\alpha}{^\\beta}{^\\gamma}{^\\delta}$:   0%|          | 0/256 [00:00<?, ?it/s]"
      ]
     },
     "metadata": {},
     "output_type": "display_data"
    },
    {
     "data": {
      "application/vnd.jupyter.widget-view+json": {
       "model_id": "d62c222ef1b74f828d951489f7eaf4fe",
       "version_major": 2,
       "version_minor": 0
      },
      "text/plain": [
       "Riemann Tensor $R{^\\alpha}{^\\beta}{_\\gamma}{^\\delta}$:   0%|          | 0/256 [00:00<?, ?it/s]"
      ]
     },
     "metadata": {},
     "output_type": "display_data"
    },
    {
     "data": {
      "application/vnd.jupyter.widget-view+json": {
       "model_id": "30a2f27fa8464dfcb29e48c988b60a90",
       "version_major": 2,
       "version_minor": 0
      },
      "text/plain": [
       "Riemann Tensor $R{^\\alpha}{_\\beta}{^\\gamma}{_\\delta}$:   0%|          | 0/256 [00:00<?, ?it/s]"
      ]
     },
     "metadata": {},
     "output_type": "display_data"
    },
    {
     "data": {
      "application/vnd.jupyter.widget-view+json": {
       "model_id": "59e22da66ca140e4a29c71b127e0cbd3",
       "version_major": 2,
       "version_minor": 0
      },
      "text/plain": [
       "Riemann Tensor $R{^\\alpha}{_\\beta}{^\\gamma}{^\\delta}$:   0%|          | 0/256 [00:00<?, ?it/s]"
      ]
     },
     "metadata": {},
     "output_type": "display_data"
    },
    {
     "data": {
      "application/vnd.jupyter.widget-view+json": {
       "model_id": "788233e711704eb789456ba525d85e16",
       "version_major": 2,
       "version_minor": 0
      },
      "text/plain": [
       "Riemann Tensor $R{^\\alpha}{_\\beta}{_\\gamma}{^\\delta}$:   0%|          | 0/256 [00:00<?, ?it/s]"
      ]
     },
     "metadata": {},
     "output_type": "display_data"
    },
    {
     "data": {
      "application/vnd.jupyter.widget-view+json": {
       "model_id": "f68d9de4f7984a95b3c97727832ca6fd",
       "version_major": 2,
       "version_minor": 0
      },
      "text/plain": [
       "Riemann Tensor $R{_\\alpha}{^\\beta}{_\\gamma}{_\\delta}$:   0%|          | 0/256 [00:00<?, ?it/s]"
      ]
     },
     "metadata": {},
     "output_type": "display_data"
    },
    {
     "data": {
      "application/vnd.jupyter.widget-view+json": {
       "model_id": "f7751dd42d56483f991ea4cb4bdb9728",
       "version_major": 2,
       "version_minor": 0
      },
      "text/plain": [
       "Riemann Tensor $R{_\\alpha}{^\\beta}{^\\gamma}{_\\delta}$:   0%|          | 0/256 [00:00<?, ?it/s]"
      ]
     },
     "metadata": {},
     "output_type": "display_data"
    },
    {
     "data": {
      "application/vnd.jupyter.widget-view+json": {
       "model_id": "18f6715ae3da481c8119e3a78ea038ce",
       "version_major": 2,
       "version_minor": 0
      },
      "text/plain": [
       "Riemann Tensor $R{_\\alpha}{^\\beta}{^\\gamma}{^\\delta}$:   0%|          | 0/256 [00:00<?, ?it/s]"
      ]
     },
     "metadata": {},
     "output_type": "display_data"
    },
    {
     "data": {
      "application/vnd.jupyter.widget-view+json": {
       "model_id": "e3b3c9d30de541a0b47bef40806d65ab",
       "version_major": 2,
       "version_minor": 0
      },
      "text/plain": [
       "Riemann Tensor $R{_\\alpha}{^\\beta}{_\\gamma}{^\\delta}$:   0%|          | 0/256 [00:00<?, ?it/s]"
      ]
     },
     "metadata": {},
     "output_type": "display_data"
    },
    {
     "data": {
      "application/vnd.jupyter.widget-view+json": {
       "model_id": "a80483fb10aa4915969000dfb509d7c2",
       "version_major": 2,
       "version_minor": 0
      },
      "text/plain": [
       "Riemann Tensor $R{_\\alpha}{_\\beta}{^\\gamma}{_\\delta}$:   0%|          | 0/256 [00:00<?, ?it/s]"
      ]
     },
     "metadata": {},
     "output_type": "display_data"
    },
    {
     "data": {
      "application/vnd.jupyter.widget-view+json": {
       "model_id": "6e681d56a1bb449cba72c26ce694d959",
       "version_major": 2,
       "version_minor": 0
      },
      "text/plain": [
       "Riemann Tensor $R{_\\alpha}{_\\beta}{^\\gamma}{^\\delta}$:   0%|          | 0/256 [00:00<?, ?it/s]"
      ]
     },
     "metadata": {},
     "output_type": "display_data"
    },
    {
     "data": {
      "application/vnd.jupyter.widget-view+json": {
       "model_id": "35059d981d9f4c82958be33f35516208",
       "version_major": 2,
       "version_minor": 0
      },
      "text/plain": [
       "Riemann Tensor $R{_\\alpha}{_\\beta}{_\\gamma}{^\\delta}$:   0%|          | 0/256 [00:00<?, ?it/s]"
      ]
     },
     "metadata": {},
     "output_type": "display_data"
    },
    {
     "data": {
      "text/latex": [
       "All other indices of Riemann Tensor $R$  already calculated."
      ],
      "text/plain": [
       "<IPython.core.display.Latex object>"
      ]
     },
     "metadata": {},
     "output_type": "display_data"
    },
    {
     "data": {
      "image/png": "[encoded data removed]",
      "text/latex": [
       "$\\displaystyle 16 \\mu^{2} \\left(4 \\left(a r^{2} - 1\\right)^{2} + \\left(2 a^{2} r^{4} - 5 a r^{2} + 1\\right)^{2} + 1\\right) e^{- 2 a r^{2}}$"
      ],
      "text/plain": [
       "      ⎛            2                         2    ⎞        2\n",
       "    2 ⎜  ⎛   2    ⎞    ⎛   2  4        2    ⎞     ⎟  -2⋅a⋅r \n",
       "16⋅μ ⋅⎝4⋅⎝a⋅r  - 1⎠  + ⎝2⋅a ⋅r  - 5⋅a⋅r  + 1⎠  + 1⎠⋅ℯ       "
      ]
     },
     "execution_count": 6,
     "metadata": {},
     "output_type": "execute_result"
    }
   ],
   "source": [
    "Rie = pt.riemann(All=True)\n",
    "K = Rie('^l,^m,^n,^k')*Rie('_l,_m,_n,_k')\n",
    "K.simplify()"
   ]
  },
  {
   "cell_type": "code",
   "execution_count": 8,
   "metadata": {},
   "outputs": [
    {
     "data": {
      "image/png": "[encoded data removed]",
      "text/plain": [
       "<Figure size 432x288 with 1 Axes>"
      ]
     },
     "metadata": {
      "needs_background": "light"
     },
     "output_type": "display_data"
    }
   ],
   "source": [
    "import matplotlib.pyplot as plt\n",
    "\n",
    "r = np.arange(0, 10, 0.1)\n",
    "\n",
    "a = 1\n",
    "m = 1\n",
    "\n",
    "#f = 2*m*(a*r - 6)*(a*r - 2)*np.exp(-a*r)\n",
    "#h = 1 - 2*m*r**2*np.exp(-a*r)\n",
    "\n",
    "f = 4*m*(2*a**2*r**4 - 9*a*r**2 + 6)*np.exp(-a*r**2)\n",
    "#g = 16*m**2*(4*(a*r**2 - 1)**2 + (2*a**2*r**4 - 5*a*r**2 + 1)**2 + 1)*np.exp(-2*a*r**2)\n",
    "\n",
    "plt.plot(r, f, color=\"black\", linewidth=1.5, linestyle=\"-.\", label= r'$R$')\n",
    "#plt.plot(r, g, color=\"darkblue\", linewidth=1.5, linestyle=\"--\", label= r'$K$')\n",
    "plt.axvline(x=np.sqrt(3/2), color=\"red\")\n",
    "plt.xlabel(r'$r$',fontsize = 14); plt.ylabel(r'Curvature scalars', fontsize=14)\n",
    "plt.legend(fontsize=16)\n",
    "#plt.savefig('geod.eps', format='eps',dpi = 1200, bbox_inches='tight')\n",
    "plt.show()\n"
   ]
  },
  {
   "cell_type": "code",
   "execution_count": 7,
   "metadata": {},
   "outputs": [
    {
     "data": {
      "text/latex": [
       "Einstein Tensor $G_{\\alpha \\beta}$"
      ],
      "text/plain": [
       "<IPython.core.display.Latex object>"
      ]
     },
     "metadata": {},
     "output_type": "display_data"
    },
    {
     "data": {
      "application/vnd.jupyter.widget-view+json": {
       "model_id": "9a3376295dbf4b7e825a30d07a82adf7",
       "version_major": 2,
       "version_minor": 0
      },
      "text/plain": [
       "  0%|          | 0/16 [00:00<?, ?it/s]"
      ]
     },
     "metadata": {},
     "output_type": "display_data"
    },
    {
     "data": {
      "text/latex": [
       "$\\displaystyle {G}{}_{0}\\,{}_{0}\\, = 2 \\mu \\left(2 a r^{2} - 3\\right) \\left(2 \\mu r^{2} - e^{a r^{2}}\\right) e^{- 2 a r^{2}}$"
      ],
      "text/plain": [
       "<IPython.core.display.Math object>"
      ]
     },
     "metadata": {},
     "output_type": "display_data"
    },
    {
     "data": {
      "text/latex": [
       "$\\displaystyle {G}{}_{1}\\,{}_{1}\\, = - \\frac{2 \\mu \\left(2 a r^{2} - 3\\right)}{2 \\mu r^{2} - e^{a r^{2}}}$"
      ],
      "text/plain": [
       "<IPython.core.display.Math object>"
      ]
     },
     "metadata": {},
     "output_type": "display_data"
    },
    {
     "data": {
      "text/latex": [
       "$\\displaystyle {G}{}_{2}\\,{}_{2}\\, = - 2 \\mu r^{2} \\left(a r^{2} - 3\\right) \\left(2 a r^{2} - 1\\right) e^{- a r^{2}}$"
      ],
      "text/plain": [
       "<IPython.core.display.Math object>"
      ]
     },
     "metadata": {},
     "output_type": "display_data"
    },
    {
     "data": {
      "text/latex": [
       "$\\displaystyle {G}{}_{3}\\,{}_{3}\\, = - 2 \\mu r^{2} \\left(a r^{2} - 3\\right) \\left(2 a r^{2} - 1\\right) e^{- a r^{2}} \\sin^{2}{\\left(\\theta \\right)}$"
      ],
      "text/plain": [
       "<IPython.core.display.Math object>"
      ]
     },
     "metadata": {},
     "output_type": "display_data"
    }
   ],
   "source": [
    "G = pt.einstein()\n",
    "\n",
    "G.display(\"_,_\", aslist = True)"
   ]
  },
  {
   "cell_type": "markdown",
   "metadata": {},
   "source": [
    "#### Equações de Campo\n",
    "\n",
    "Dado as equações de campo na forma \n",
    "\\begin{align}\n",
    "G^{\\mu}_{\\ \\nu} = 8 \\pi T^{\\mu}_{\\ \\nu}& = 8\\pi\\Big(\\rho e_0^{\\ \\mu}e^0_{\\ \\nu} + p e_1^{\\ \\mu}e^1_{\\ \\nu} + p_{\\Omega}(e_2^{\\ \\mu}e^2_{\\ \\nu} + e_3^{\\ \\mu}e^3_{\\ \\nu} ) \\Big),\n",
    "\\end{align}\n",
    "com $v^{\\mu} = e_{0}^{\\ \\mu} = g^{-1/2}\\delta^{\\mu}_{\\ t}$. Componente a componente, temos\n",
    "\\begin{align}\n",
    "& G^{t}_{\\ t} = - 8 \\pi \\rho \\implies \\rho(r) = \\frac{\\mu e^{- \\alpha r^2}}{4 \\pi}(3 - 2\\alpha r^2)\\\\\n",
    "& G^{r}_{\\ r} =  8 \\pi p \\implies p(r) = - \\rho(r) = - \\frac{\\mu e^{- \\alpha r^2}}{4 \\pi}(3 - 2\\alpha r^2)\\\\\n",
    "& G^{\\theta}_{\\ \\theta} = 8 \\pi p_{\\Omega} \\implies p_{\\Omega} = \\frac{\\mu e^{- \\alpha r^2}}{4\\pi}(3 - \\alpha r^2)(2 \\alpha r^2 - 1).\n",
    "\\end{align}\n",
    "A fim de que $\\rho \\ge 0$ é necessário que $r \\le \\sqrt{3/2\\alpha}$, e, portanto, $p = - \\rho \\le 0, \\ \\ \\forall \\ r \\in [0, \\sqrt{3/2\\alpha}]$. Além disso, $p_{\\Omega} \\ge 0, \\forall \\ r \\in [1/\\sqrt{2\\alpha},\\sqrt{3/2\\alpha}]$, enquanto que $p_{\\Omega} \\le 0, \\forall \\ r \\in [0, 1/\\sqrt{2\\alpha}].$\n",
    "\n",
    "\n",
    "#### Condições de Energia\n",
    "\\begin{align}\n",
    "& \\rho \\ge 0, \\forall r \\le \\sqrt{3/2\\alpha}, \\\\\n",
    "& \\rho + p = 0, \\forall r \\le \\sqrt{3/2\\alpha}, \\\\\n",
    "& \\rho + p_{\\Omega} = \\frac{\\mu}{4\\pi} (5 - 2\\alpha r^2)\\alpha r^2 e^{\\alpha r^2} \\ge 0, \\forall r \\le \\sqrt{3/2\\alpha},\\\\\n",
    "& \\rho + p + 2p_{\\Omega} = 2 p_{\\Omega} = \\frac{\\mu e^{- \\alpha r^2}}{2\\pi}(3 - \\alpha r^2)(2 \\alpha r^2 - 1) \\le 0, \\forall r \\le 1/\\sqrt{2\\alpha}. \n",
    "\\end{align}\n",
    "\n",
    "#### Condições de Junção\n",
    "\n",
    "Se impormos que temos matéria apenas até $r = \\sqrt{3/2\\alpha}$, definindo assim a superfície do objeto através de $p = \\rho = 0$ (embora seja possível estender tal solução até infinito), então temos que colar com $(M,g)_{sch}$. Tambémm como mostraremos abaixo, é possível supor que existe uma fronteira $r = a$ que define a superfície do objeto e aplicando as condições de junção surge naturalmente que tal superfície está localizada em $r = a =  \\sqrt{3/2\\alpha}$ onde $p(a) = \\rho(a) = 0$. Para isso, seja a métrica interior denotada por $g^-_{\\mu \\nu}$ e a métrica de Schwarzschild por $g^+_{\\mu \\nu}$. Assim, na fronteira, devemos ter que\n",
    "\\begin{align}\n",
    "& g^-_{tt}|_{r = a} = g^{+}_{tt}|_{r = a}, \\ \\ \\ g^-_{rr}|_{r = a} = g^{+}_{rr}|_{r = a} \\implies \\mu = \\frac{m}{a^3} e^{\\alpha a^2},\\\\\n",
    "& K^-_{ab} = K^+_{ab} \\implies a =  \\sqrt{3/2\\alpha}\n",
    "\\end{align}\n",
    "onde $K_{ab} = \\nabla_{\\nu} n_{\\mu} \\frac{\\partial x^{\\mu}}{\\partial \\xi^a}\\frac{\\partial x^{\\nu}}{\\partial \\xi^b}$ é a curvatura extrínseca da superfície $\\Sigma : r = a$.\n",
    "como esperado uma vez que a fronteira é justamente suposta de inicial em $r = a =  \\sqrt{3/2\\alpha}$. Na superfície $\\Sigma$ temos \n",
    "\\begin{align}\n",
    "ds^2_{\\Sigma} = - d \\tau^2 + a^2(d \\theta^2 + \\sin^2 \\theta d \\phi^2), \\ \\ \\ \\ \\xi^a = (\\tau, \\theta, \\phi).\n",
    "\\end{align}\n",
    "Definindo o vetor normal à $\\Sigma$ como $n^{\\mu} = g_{rr}^{-1/2} \\delta^{\\mu}_{\\ r}$ tal que $g(n,n) = 1$, então $n$ é tipo espaço e a superfície $\\Sigma$ é escolhida tipo tempo. Assim\n",
    "\\begin{align}\n",
    "K_{a b} = g_{rr}^{1/2} \\nabla_{\\nu} \\delta_{\\mu}^{\\ r} \\frac{\\partial x^{\\mu}}{\\partial \\xi^a}\\frac{\\partial x^{\\nu}}{\\partial \\xi^b} = -g_{rr}^{1/2} \\Gamma_{\\mu \\nu}^{r} \\frac{\\partial x^{\\mu}}{\\partial \\xi^a}\\frac{\\partial x^{\\nu}}{\\partial \\xi^b},\n",
    "\\end{align}\n",
    "de modo que\n",
    "\\begin{align}\n",
    "K_{\\tau \\tau} =- g_{rr}^{1/2}  \\Gamma_{\\mu \\nu}^{r} \\frac{d x^{\\mu}}{d \\tau}\\frac{d x^{\\nu}}{d \\tau} =  -g_{rr}^{1/2} \\Gamma_{t t}^{r}  \\frac{d t}{d \\tau}\\frac{d t}{d \\tau} = \\frac{1}{2} g_{rr}^{1/2} g^{r r}\\partial_r g_{tt} \\frac{d t}{d \\tau}\\frac{d t}{d \\tau}.\n",
    "\\end{align}\n",
    "Como $v^{\\mu} :=\\frac{d t}{d \\tau} \\delta^{\\mu}_{\\ t}$ representa a velocidade do fluído comóvel (ou observadores) com a superfície, então $$g^{rr}\\frac{d t}{d \\tau} \\frac{d t}{d \\tau}  = g_{tt}\\frac{d t}{d \\tau} \\frac{d t}{d \\tau}  = -1, $$ e portanto, temos que\n",
    "\\begin{align}\n",
    "K_{\\tau \\tau} = -\\frac{1}{2}g_{rr}^{1/2}\\partial_r g_{tt}.\n",
    "\\end{align}\n",
    "\n",
    "Ainda, lembrando que\n",
    "\\begin{align}\n",
    "& ds_-^2 = -(1 - 2\\mu r^2e^{- \\alpha r^2})dt^2 + (1 - 2\\mu r^2e^{- \\alpha r^2})^{-1} dr^2 + r^2 d \\Omega^2, \\\\\n",
    "& ds_+^2 = -(1 - \\frac{2m}{r})dt^2 + (1 - \\frac{2m}{r})^{-1} dr^2 + r^2 d \\Omega^2,\n",
    "\\end{align}\n",
    "então temos que\n",
    "\\begin{align}\n",
    " K^-_{ab}|_{r = a} = K^+_{ab}|_{r = a} \\implies (g^-_{rr})^{1/2}\\partial_r g^-_{tt} = (g^+_{rr})^{1/2}\\partial_r g^+_{tt}   \\implies \\partial_r g^-_{tt}|_{r = a} = \\partial_r g^+_{tt}|_{r = a} \\implies a =  \\sqrt{3/2\\alpha}, \n",
    "\\end{align}\n",
    "de modo que $p(a) = \\rho(a) = 0$. Ainda, vale ressaltar que temos 4 parâmetros: $\\mu, \\alpha, m, a$. No entanto, apenas dois deles são independentes. Por exemplo, podemos escrever\n",
    "\\begin{align}\n",
    "m = \\mu \\Big(\\frac{3}{2\\alpha}\\Big)^{3/2}e^{-3/2}, \\ \\ \\ a =  \\sqrt{3/2\\alpha},\n",
    "\\end{align}\n",
    "ou\n",
    "\\begin{align}\n",
    "\\mu = m\\Big(\\frac{3}{2\\alpha}\\Big)^{-3/2}e^{3/2}, \\ \\ \\ \\alpha = \\frac{3}{2 a^2}.\n",
    "\\end{align}\n",
    "Por exemplo, se escrevermos $m, a$ em termos de $\\mu, \\alpha$, então\n",
    "\\begin{align}\n",
    "g^{+}_{tt}(r) = 1 - \\frac{2\\mu}{r} \\Big(\\frac{3}{2\\alpha}\\Big)^{3/2}e^{-3/2}\n",
    "\\end{align}\n",
    "sendo interessante notar que, para $\\alpha = 1$ e $\\mu = 3/2$, $g^{-}_{tt}(r)  = g^{+}_{tt}(r) $ coincidem em $r = a$\n",
    "#### Horizontes\n",
    "\n",
    "Para uma métrica esfericamente simétrica e estática, o horizonte pode ser localizado através de $g_{tt}(r)|_{r = r_h} = 0$, ou seja, neste caso,\n",
    "\\begin{align}\n",
    "1 - 2\\mu r^2e^{- \\alpha r^2} = 0 \\implies r^2e^{- \\alpha r^2} = \\frac{1}{2\\mu},\n",
    "\\end{align}\n",
    "sendo uma equação transcendental.  \n",
    "\n",
    "#### Condições para haver Horizontes\n",
    "\n",
    "Como para uma métrica esfericamente simétrica e estática, o horizonte pode ser localizado através de $g_{tt}(r)|_{r = r_h} = 0$, para haver horizontes podemos olhar para o mínimo de $g_{tt}$. Se o mínimo de $g_{tt} < 0$ então haverá horizontes, enquanto que se o mínimo $g_{tt} > 0$ não haverá horizontes. Logo, como\n",
    "\\begin{align}\n",
    "\\frac{d}{dr} g_{tt} = 4\\mu r(\\alpha r^2 - 1) e^{-\\alpha r^2},\n",
    "\\end{align}\n",
    "então\n",
    "\\begin{align}\n",
    "\\frac{d}{dr} g_{tt} |_{r = r_*} = 0 \\iff r_* = 1/\\sqrt{\\alpha}.\n",
    "\\end{align}\n",
    "Neste caso, temos que\n",
    "\\begin{align}\n",
    "g_{tt}(r_*) = 1 - 2\\frac{\\mu}{\\alpha}e^{-1}.\n",
    "\\end{align}\n",
    "Portanto,\n",
    "\\begin{align}\n",
    "& g_{tt}(r_*) < 0 \\iff \\frac{\\mu}{\\alpha} > \\frac{e}{2} \\approx 1.3591, \\\\\n",
    "& g_{tt}(r_*) > 0 \\iff \\frac{\\mu}{\\alpha} < \\frac{e}{2} \\approx 1.3591.\n",
    "\\end{align}\n",
    "\n",
    "#### Quasi BH?\n",
    "\n",
    "From Lemos & Weinberg, Phys.Rev. D69 (2004) 104004: \n",
    "\"To see how such a solution might come about, consider a static spacetime with a spherically symmetric concentration of matter near the origin, r = 0. If the spacetime is non-singular, then A(0) = 1. As one moves out from the origin, $A^{-1}$ initially decreases until it reaches a minimum value, typically at a radius near the edge of the mass distribution, and then increases towards its asymptotic value. The minimum of  $A^{-1}$ becomes deeper as the\n",
    "density of the mass distribution is increased. This suggests that one could approach the black hole limit simply by making the density large enough.\"\n",
    "\n",
    "Além disso, dado que \n",
    "\\begin{align}\n",
    "& ds_-^2 = -(1 - 2\\mu r^2e^{- \\alpha r^2})dt^2 + (1 - 2\\mu r^2e^{- \\alpha r^2})^{-1} dr^2 + r^2 d \\Omega^2, \\\\\n",
    "& ds_+^2 = -(1 - \\frac{2m}{r})dt^2 + (1 - \\frac{2m}{r})^{-1} dr^2 + r^2 d \\Omega^2,\n",
    "\\end{align}\n",
    "em $\\Sigma: r = a$, devemos ter\n",
    "\\begin{align}\n",
    "-(1 - 2\\mu r^2e^{- \\alpha r^2})dT^2 = -(1 - \\frac{2m}{r})dt^2\n",
    "\\end{align}\n",
    "de modo que\n",
    "\\begin{align}\n",
    "dT^2 = \\frac{1 - \\frac{2m}{r}}{1 - 2\\mu r^2e^{- \\alpha r^2}} dt^2 \\implies dT^2 \\to 0, \\ \\ \\ \\text{para} \\ \\ \\ r \\to 2m.\n",
    "\\end{align}"
   ]
  },
  {
   "cell_type": "code",
   "execution_count": 13,
   "metadata": {},
   "outputs": [
    {
     "data": {
      "image/png": "[encoded data removed]",
      "text/plain": [
       "<Figure size 432x288 with 1 Axes>"
      ]
     },
     "metadata": {
      "needs_background": "light"
     },
     "output_type": "display_data"
    }
   ],
   "source": [
    "import matplotlib.pyplot as plt\n",
    "\n",
    "x = np.arange(0, 2, 0.1)\n",
    "\n",
    "h = 1 - 2*x*np.exp(-1)\n",
    "\n",
    "plt.plot(x, h, color=\"black\", linewidth=1.5, linestyle=\"-.\")\n",
    "plt.axvline(x=np.exp(1)/2, color=\"red\")\n",
    "#plt.axvline(x=2*m*(3/2)**(3/2)*np.exp(-3/(2*a)), color=\"blue\")\n",
    "\n",
    "plt.xlabel(r'$\\frac{\\mu}{\\alpha}$',fontsize = 14); plt.ylabel(r'$g_{tt}(r_*)$', fontsize=14)\n",
    "#plt.legend(fontsize=16)\n",
    "#plt.savefig('geod.eps', format='eps',dpi = 1200, bbox_inches='tight')\n",
    "plt.show()"
   ]
  },
  {
   "cell_type": "markdown",
   "metadata": {},
   "source": [
    "#### Gráfico abaixo para $\\alpha = 1$ e $\\mu = 1$, mostrando que não há horizontes para $r < a$"
   ]
  },
  {
   "cell_type": "code",
   "execution_count": 44,
   "metadata": {},
   "outputs": [
    {
     "data": {
      "image/png": "[encoded data removed]",
      "text/plain": [
       "<Figure size 432x288 with 1 Axes>"
      ]
     },
     "metadata": {
      "needs_background": "light"
     },
     "output_type": "display_data"
    }
   ],
   "source": [
    "import matplotlib.pyplot as plt\n",
    "\n",
    "r = np.arange(0, 10, 0.1)\n",
    "\n",
    "a = 1 # aqui 'a' é o parâmetro \\alpha\n",
    "m = 1 # aqui 'm' é o parâmetro \\mu\n",
    "\n",
    "h = 1 - 2*m*r**2*np.exp(-a*r**2)\n",
    "\n",
    "plt.plot(r, h, color=\"black\", linewidth=1.5, linestyle=\"-.\")\n",
    "plt.axvline(x=np.sqrt(3/2*a), color=\"red\", label= r'$r = a$')\n",
    "plt.axvline(x=2*m*(3/2*a)**(3/2)*np.exp(-3/(2)), color=\"blue\", label= r'$r^{sch}_{h} = 2m$')\n",
    "\n",
    "plt.xlabel(r'$r$',fontsize = 14); plt.ylabel(r'$g_{tt}(r)$', fontsize=14)\n",
    "plt.legend(fontsize=16)\n",
    "#plt.savefig('geod.eps', format='eps',dpi = 1200, bbox_inches='tight')\n",
    "plt.show()"
   ]
  },
  {
   "cell_type": "code",
   "execution_count": 4,
   "metadata": {},
   "outputs": [
    {
     "name": "stderr",
     "output_type": "stream",
     "text": [
      "No handles with labels found to put in legend.\n"
     ]
    },
    {
     "data": {
      "image/png": "[encoded data removed]",
      "text/plain": [
       "<Figure size 432x288 with 1 Axes>"
      ]
     },
     "metadata": {
      "needs_background": "light"
     },
     "output_type": "display_data"
    }
   ],
   "source": [
    "import matplotlib.pyplot as plt\n",
    "\n",
    "\n",
    "a = 1 # aqui 'a' é o parâmetro \\alpha\n",
    "m = 1 # aqui 'm' é o parâmetro \\mu\n",
    "\n",
    "r = np.arange(0, np.sqrt(3/2*a), 0.1)\n",
    "x = np.arange(np.sqrt(3/2*a),10, 0.1)\n",
    "y = np.arange(0,10, 0.1)\n",
    "\n",
    "h = 1 - 2*m*r**2*np.exp(-a*r**2)\n",
    "g = 1 - 2*m*(3/2*a)**(3/2)*np.exp(-3/(2))/x\n",
    "plt.plot(r, h, color=\"black\", linewidth=1.5, linestyle=\"-\")\n",
    "plt.plot(x, g, color=\"red\", linewidth=1.5, linestyle=\"-\")\n",
    "\n",
    "\n",
    "#plt.axvline(x=np.sqrt(3/2*a), color=\"red\", label= r'$r = a$')\n",
    "#plt.axvline(x=2*m*(3/2)**(3/2)*np.exp(-3/(2*a)), color=\"blue\", label= r'$r^{sch}_{h} = 2m$')\n",
    "\n",
    "plt.xlabel(r'$r$',fontsize = 14); plt.ylabel(r'$g_{tt}(r)$', fontsize=14)\n",
    "plt.legend(fontsize=16)\n",
    "#plt.savefig('geod.eps', format='eps',dpi = 1200, bbox_inches='tight')\n",
    "plt.show()"
   ]
  },
  {
   "cell_type": "code",
   "execution_count": null,
   "metadata": {},
   "outputs": [],
   "source": [
    "import matplotlib.pyplot as plt\n",
    "\n",
    "r = np.arange(0, 10, 0.1)\n",
    "\n",
    "a = 1 # aqui 'a' é o parâmetro \\alpha\n",
    "m = 1 # aqui 'm' é o parâmetro \\mu\n",
    "\n",
    "h = 1 - 2*m*r**2*np.exp(-a*r**2)\n",
    "\n",
    "plt.plot(r, h, color=\"black\", linewidth=1.5, linestyle=\"-.\")\n",
    "plt.axvline(x=np.sqrt(3/2*a), color=\"red\", label= r'$r = a$')\n",
    "plt.axvline(x=2*m*(3/2*a)**(3/2)*np.exp(-3/(2)), color=\"blue\", label= r'$r^{sch}_{h} = 2m$')\n",
    "\n",
    "plt.xlabel(r'$r$',fontsize = 14); plt.ylabel(r'$g_{tt}(r)$', fontsize=14)\n",
    "plt.legend(fontsize=16)\n",
    "#plt.savefig('geod.eps', format='eps',dpi = 1200, bbox_inches='tight')\n",
    "plt.show()"
   ]
  },
  {
   "cell_type": "code",
   "execution_count": 52,
   "metadata": {},
   "outputs": [
    {
     "data": {
      "image/png": "[encoded data removed]",
      "text/plain": [
       "<Figure size 432x288 with 1 Axes>"
      ]
     },
     "metadata": {
      "needs_background": "light"
     },
     "output_type": "display_data"
    }
   ],
   "source": [
    "import matplotlib.pyplot as plt\n",
    "\n",
    "r = np.arange(0, 10, 0.1)\n",
    "\n",
    "a = 1 # aqui 'a' é o parâmetro \\alpha\n",
    "m = 1.25 # aqui 'm' é o parâmetro \\mu\n",
    "\n",
    "h = 1 - 2*m*r**2*np.exp(-a*r**2)\n",
    "\n",
    "plt.plot(r, h, color=\"black\", linewidth=1.5, linestyle=\"-.\")\n",
    "plt.axvline(x=np.sqrt(3/2*a), color=\"red\", label= r'$r = a$')\n",
    "plt.axvline(x=2*m*(3/2*a)**(3/2)*np.exp(-3/(2)), color=\"blue\", label= r'$r^{sch}_{h} = 2m$')\n",
    "\n",
    "plt.xlabel(r'$r$',fontsize = 14); plt.ylabel(r'$g_{tt}(r)$', fontsize=14)\n",
    "plt.legend(fontsize=16)\n",
    "#plt.savefig('geod.eps', format='eps',dpi = 1200, bbox_inches='tight')\n",
    "plt.show()"
   ]
  },
  {
   "cell_type": "code",
   "execution_count": 56,
   "metadata": {},
   "outputs": [
    {
     "name": "stderr",
     "output_type": "stream",
     "text": [
      "No handles with labels found to put in legend.\n"
     ]
    },
    {
     "data": {
      "image/png": "[encoded data removed]",
      "text/plain": [
       "<Figure size 432x288 with 1 Axes>"
      ]
     },
     "metadata": {
      "needs_background": "light"
     },
     "output_type": "display_data"
    }
   ],
   "source": [
    "import matplotlib.pyplot as plt\n",
    "\n",
    "\n",
    "a = 1 # aqui 'a' é o parâmetro \\alpha\n",
    "m = 1.25 # aqui 'm' é o parâmetro \\mu\n",
    "\n",
    "r = np.arange(0, np.sqrt(3/2*a), 0.1)\n",
    "x = np.arange(np.sqrt(3/2*a),10, 0.1 )\n",
    "h = 1 - 2*m*r**2*np.exp(-a*r**2)\n",
    "g = 1 - 2*m*(3/2*a)**(3/2)*np.exp(-3/(2))/x\n",
    "plt.plot(r, h, color=\"black\", linewidth=1.5, linestyle=\"-\")\n",
    "plt.plot(x, g, color=\"red\", linewidth=1.5, linestyle=\"-\")\n",
    "\n",
    "#plt.axvline(x=np.sqrt(3/2*a), color=\"red\", label= r'$r = a$')\n",
    "#plt.axvline(x=2*m*(3/2)**(3/2)*np.exp(-3/(2*a)), color=\"blue\", label= r'$r^{sch}_{h} = 2m$')\n",
    "\n",
    "plt.xlabel(r'$r$',fontsize = 14); plt.ylabel(r'$g_{tt}(r)$', fontsize=14)\n",
    "plt.legend(fontsize=16)\n",
    "#plt.savefig('geod.eps', format='eps',dpi = 1200, bbox_inches='tight')\n",
    "plt.show()"
   ]
  },
  {
   "cell_type": "markdown",
   "metadata": {},
   "source": [
    "#### Gráfico abaixo para $\\alpha = 1$ e $\\mu = 1.5$, mostrando que  $r = a$ coincide com  o  horizonte de Schwarzschild."
   ]
  },
  {
   "cell_type": "code",
   "execution_count": 46,
   "metadata": {},
   "outputs": [
    {
     "name": "stderr",
     "output_type": "stream",
     "text": [
      "No handles with labels found to put in legend.\n"
     ]
    },
    {
     "data": {
      "image/png": "[encoded data removed]",
      "text/plain": [
       "<Figure size 432x288 with 1 Axes>"
      ]
     },
     "metadata": {
      "needs_background": "light"
     },
     "output_type": "display_data"
    }
   ],
   "source": [
    "import matplotlib.pyplot as plt\n",
    "\n",
    "r = np.arange(0, 10, 0.1)\n",
    "\n",
    "a = 1\n",
    "m = 1.5\n",
    "\n",
    "h = 1 - 2*m*r**2*np.exp(-a*r**2)\n",
    "\n",
    "plt.plot(r, h, color=\"black\", linewidth=1.5, linestyle=\"-.\")\n",
    "plt.axvline(x=np.sqrt(3/2*a), color=\"red\")\n",
    "plt.axvline(x=2*m*(3/2*a)**(3/2)*np.exp(-3/(2)), color=\"blue\")\n",
    "\n",
    "plt.xlabel(r'$r$',fontsize = 14); plt.ylabel(r'$g_{tt}(r)$', fontsize=14)\n",
    "plt.legend(fontsize=16)\n",
    "#plt.savefig('geod.eps', format='eps',dpi = 1200, bbox_inches='tight')\n",
    "plt.show()"
   ]
  },
  {
   "cell_type": "code",
   "execution_count": 18,
   "metadata": {},
   "outputs": [
    {
     "data": {
      "image/png": "[encoded data removed]",
      "text/latex": [
       "$\\displaystyle -0.00408572066793411$"
      ],
      "text/plain": [
       "-0.004085720667934112"
      ]
     },
     "execution_count": 18,
     "metadata": {},
     "output_type": "execute_result"
    }
   ],
   "source": [
    "b = 1 - 2*(3/2)**2*np.exp(-3/2)\n",
    "b"
   ]
  },
  {
   "cell_type": "code",
   "execution_count": 25,
   "metadata": {},
   "outputs": [
    {
     "name": "stderr",
     "output_type": "stream",
     "text": [
      "No handles with labels found to put in legend.\n"
     ]
    },
    {
     "data": {
      "image/png": "[encoded data removed]",
      "text/plain": [
       "<Figure size 432x288 with 1 Axes>"
      ]
     },
     "metadata": {
      "needs_background": "light"
     },
     "output_type": "display_data"
    }
   ],
   "source": [
    "import matplotlib.pyplot as plt\n",
    "\n",
    "\n",
    "a = 1 # aqui 'a' é o parâmetro \\alpha\n",
    "m = 1.5 # aqui 'm' é o parâmetro \\mu\n",
    "\n",
    "r = np.arange(0, np.sqrt(3/2*a), 000.1)\n",
    "x = np.arange(np.sqrt(3/2*a),10, 000.1)\n",
    "h = 1 - 2*m*r**2*np.exp(-a*r**2)\n",
    "g = 1 - 2*m*(3/2*a)**(3/2)*np.exp(-3/(2))/x\n",
    "plt.plot(r, h, color=\"black\", linewidth=1.5, linestyle=\"-\")\n",
    "plt.plot(x, g, color=\"red\", linewidth=1.5, linestyle=\"-\")\n",
    "\n",
    "#plt.axvline(x=np.sqrt(3/2*a), color=\"red\", label= r'$r = a$')\n",
    "#plt.axvline(x=2*m*(3/2)**(3/2)*np.exp(-3/(2*a)), color=\"blue\", label= r'$r^{sch}_{h} = 2m$')\n",
    "\n",
    "plt.xlabel(r'$r$',fontsize = 14); plt.ylabel(r'$g_{tt}(r)$', fontsize=14)\n",
    "plt.legend(fontsize=16)\n",
    "#plt.savefig('geod.eps', format='eps',dpi = 1200, bbox_inches='tight')\n",
    "plt.show()"
   ]
  },
  {
   "cell_type": "code",
   "execution_count": 54,
   "metadata": {},
   "outputs": [
    {
     "data": {
      "image/png": "[encoded data removed]",
      "text/plain": [
       "<Figure size 432x288 with 1 Axes>"
      ]
     },
     "metadata": {
      "needs_background": "light"
     },
     "output_type": "display_data"
    }
   ],
   "source": [
    "import matplotlib.pyplot as plt\n",
    "\n",
    "r = np.arange(0, 10, 0.1)\n",
    "\n",
    "a = 1 # aqui 'a' é o parâmetro \\alpha\n",
    "m = 1.6 # aqui 'm' é o parâmetro \\mu\n",
    "\n",
    "h = 1 - 2*m*r**2*np.exp(-a*r**2)\n",
    "\n",
    "plt.plot(r, h, color=\"black\", linewidth=1.5, linestyle=\"-.\")\n",
    "plt.axvline(x=np.sqrt(3/2*a), color=\"red\", label= r'$r = a$')\n",
    "plt.axvline(x=2*m*(3/2*a)**(3/2)*np.exp(-3/(2)), color=\"blue\", label= r'$r^{sch}_{h} = 2m$')\n",
    "\n",
    "plt.xlabel(r'$r$',fontsize = 14); plt.ylabel(r'$g_{tt}(r)$', fontsize=14)\n",
    "plt.legend(fontsize=16)\n",
    "#plt.savefig('geod.eps', format='eps',dpi = 1200, bbox_inches='tight')\n",
    "plt.show()"
   ]
  },
  {
   "cell_type": "code",
   "execution_count": 55,
   "metadata": {},
   "outputs": [
    {
     "name": "stderr",
     "output_type": "stream",
     "text": [
      "No handles with labels found to put in legend.\n"
     ]
    },
    {
     "data": {
      "image/png": "[encoded data removed]",
      "text/plain": [
       "<Figure size 432x288 with 1 Axes>"
      ]
     },
     "metadata": {
      "needs_background": "light"
     },
     "output_type": "display_data"
    }
   ],
   "source": [
    "import matplotlib.pyplot as plt\n",
    "\n",
    "\n",
    "a = 1 # aqui 'a' é o parâmetro \\alpha\n",
    "m = 1.6 # aqui 'm' é o parâmetro \\mu\n",
    "\n",
    "r = np.arange(0, np.sqrt(3/2*a), 0.1)\n",
    "x = np.arange(np.sqrt(3/2*a),10, 0.1 )\n",
    "h = 1 - 2*m*r**2*np.exp(-a*r**2)\n",
    "g = 1 - 2*m*(3/2*a)**(3/2)*np.exp(-3/(2))/x\n",
    "plt.plot(r, h, color=\"black\", linewidth=1.5, linestyle=\"-\")\n",
    "plt.plot(x, g, color=\"red\", linewidth=1.5, linestyle=\"-\")\n",
    "\n",
    "#plt.axvline(x=np.sqrt(3/2*a), color=\"red\", label= r'$r = a$')\n",
    "#plt.axvline(x=2*m*(3/2)**(3/2)*np.exp(-3/(2*a)), color=\"blue\", label= r'$r^{sch}_{h} = 2m$')\n",
    "\n",
    "plt.xlabel(r'$r$',fontsize = 14); plt.ylabel(r'$g_{tt}(r)$', fontsize=14)\n",
    "plt.legend(fontsize=16)\n",
    "#plt.savefig('geod.eps', format='eps',dpi = 1200, bbox_inches='tight')\n",
    "plt.show()"
   ]
  },
  {
   "cell_type": "code",
   "execution_count": 57,
   "metadata": {},
   "outputs": [
    {
     "data": {
      "image/png": "[encoded data removed]",
      "text/plain": [
       "<Figure size 432x288 with 1 Axes>"
      ]
     },
     "metadata": {
      "needs_background": "light"
     },
     "output_type": "display_data"
    }
   ],
   "source": [
    "import matplotlib.pyplot as plt\n",
    "\n",
    "r = np.arange(0, 10, 0.1)\n",
    "\n",
    "a = 1 # aqui 'a' é o parâmetro \\alpha\n",
    "m = 1.75 # aqui 'm' é o parâmetro \\mu\n",
    "\n",
    "h = 1 - 2*m*r**2*np.exp(-a*r**2)\n",
    "\n",
    "plt.plot(r, h, color=\"black\", linewidth=1.5, linestyle=\"-.\")\n",
    "plt.axvline(x=np.sqrt(3/2*a), color=\"red\", label= r'$r = a$')\n",
    "plt.axvline(x=2*m*(3/2*a)**(3/2)*np.exp(-3/(2)), color=\"blue\", label= r'$r^{sch}_{h} = 2m$')\n",
    "\n",
    "plt.xlabel(r'$r$',fontsize = 14); plt.ylabel(r'$g_{tt}(r)$', fontsize=14)\n",
    "plt.legend(fontsize=16)\n",
    "#plt.savefig('geod.eps', format='eps',dpi = 1200, bbox_inches='tight')\n",
    "plt.show()"
   ]
  },
  {
   "cell_type": "code",
   "execution_count": 59,
   "metadata": {},
   "outputs": [
    {
     "name": "stderr",
     "output_type": "stream",
     "text": [
      "No handles with labels found to put in legend.\n"
     ]
    },
    {
     "data": {
      "image/png": "[encoded data removed]",
      "text/plain": [
       "<Figure size 432x288 with 1 Axes>"
      ]
     },
     "metadata": {
      "needs_background": "light"
     },
     "output_type": "display_data"
    }
   ],
   "source": [
    "import matplotlib.pyplot as plt\n",
    "\n",
    "\n",
    "a = 1 # aqui 'a' é o parâmetro \\alpha\n",
    "m = 1.75 # aqui 'm' é o parâmetro \\mu\n",
    "\n",
    "r = np.arange(0, np.sqrt(3/2*a), 0.1)\n",
    "x = np.arange(np.sqrt(3/2*a),10, 0.1 )\n",
    "h = 1 - 2*m*r**2*np.exp(-a*r**2)\n",
    "g = 1 - 2*m*(3/2*a)**(3/2)*np.exp(-3/(2))/x\n",
    "plt.plot(r, h, color=\"black\", linewidth=1.5, linestyle=\"-\")\n",
    "plt.plot(x, g, color=\"red\", linewidth=1.5, linestyle=\"-\")\n",
    "\n",
    "#plt.axvline(x=np.sqrt(3/2*a), color=\"red\", label= r'$r = a$')\n",
    "#plt.axvline(x=2*m*(3/2)**(3/2)*np.exp(-3/(2*a)), color=\"blue\", label= r'$r^{sch}_{h} = 2m$')\n",
    "\n",
    "plt.xlabel(r'$r$',fontsize = 14); plt.ylabel(r'$g_{tt}(r)$', fontsize=14)\n",
    "plt.legend(fontsize=16)\n",
    "#plt.savefig('geod.eps', format='eps',dpi = 1200, bbox_inches='tight')\n",
    "plt.show()"
   ]
  },
  {
   "cell_type": "markdown",
   "metadata": {},
   "source": [
    "#### Gráfico abaixo para $\\alpha = 3$ e $\\mu = 1$, mostrando que não há horizonte para $r < a$ mas há o horizonte de Schwarzschild, e a métrica dá um salto em $r = a$."
   ]
  },
  {
   "cell_type": "code",
   "execution_count": 47,
   "metadata": {},
   "outputs": [
    {
     "name": "stderr",
     "output_type": "stream",
     "text": [
      "No handles with labels found to put in legend.\n"
     ]
    },
    {
     "data": {
      "image/png": "[encoded data removed]",
      "text/plain": [
       "<Figure size 432x288 with 1 Axes>"
      ]
     },
     "metadata": {
      "needs_background": "light"
     },
     "output_type": "display_data"
    }
   ],
   "source": [
    "import matplotlib.pyplot as plt\n",
    "\n",
    "r = np.arange(0, 10, 0.1)\n",
    "\n",
    "a = 3\n",
    "m = 1\n",
    "\n",
    "h = 1 - 2*m*r**2*np.exp(-a*r**2)\n",
    "\n",
    "plt.plot(r, h, color=\"black\", linewidth=1.5, linestyle=\"-.\")\n",
    "plt.axvline(x=np.sqrt(3/2*a), color=\"red\")\n",
    "plt.axvline(x=2*m*(3/2*a)**(3/2)*np.exp(-3/(2)), color=\"blue\")\n",
    "plt.xlabel(r'$r$',fontsize = 14); plt.ylabel(r'$g_{tt}(r)$', fontsize=14)\n",
    "plt.legend(fontsize=16)\n",
    "#plt.savefig('geod.eps', format='eps',dpi = 1200, bbox_inches='tight')\n",
    "plt.show()"
   ]
  },
  {
   "cell_type": "markdown",
   "metadata": {},
   "source": [
    "#### Gráfico abaixo para $\\alpha = 1$ e $\\mu = 0.5$."
   ]
  },
  {
   "cell_type": "code",
   "execution_count": 10,
   "metadata": {},
   "outputs": [
    {
     "name": "stderr",
     "output_type": "stream",
     "text": [
      "No handles with labels found to put in legend.\n"
     ]
    },
    {
     "data": {
      "image/png": "[encoded data removed]",
      "text/plain": [
       "<Figure size 432x288 with 1 Axes>"
      ]
     },
     "metadata": {
      "needs_background": "light"
     },
     "output_type": "display_data"
    }
   ],
   "source": [
    "import matplotlib.pyplot as plt\n",
    "\n",
    "r = np.arange(0, 10, 0.1)\n",
    "\n",
    "a = 1\n",
    "m = 0.5\n",
    "\n",
    "h = 1 - 2*m*r**2*np.exp(-a*r**2)\n",
    "\n",
    "plt.plot(r, h, color=\"black\", linewidth=1.5, linestyle=\"-.\")\n",
    "plt.axvline(x=np.sqrt(3/2*a), color=\"red\")\n",
    "plt.axvline(x=2*m*(3/2)**(3/2)*np.exp(-3/(2*a)), color=\"blue\")\n",
    "\n",
    "plt.xlabel(r'$r$',fontsize = 14); plt.ylabel(r'$g_{tt}(r)$', fontsize=14)\n",
    "plt.legend(fontsize=16)\n",
    "#plt.savefig('geod.eps', format='eps',dpi = 1200, bbox_inches='tight')\n",
    "plt.show()"
   ]
  },
  {
   "cell_type": "code",
   "execution_count": 29,
   "metadata": {},
   "outputs": [
    {
     "name": "stderr",
     "output_type": "stream",
     "text": [
      "No handles with labels found to put in legend.\n"
     ]
    },
    {
     "data": {
      "image/png": "[encoded data removed]",
      "text/plain": [
       "<Figure size 432x288 with 1 Axes>"
      ]
     },
     "metadata": {
      "needs_background": "light"
     },
     "output_type": "display_data"
    }
   ],
   "source": [
    "import matplotlib.pyplot as plt\n",
    "\n",
    "\n",
    "a = 1 # aqui 'a' é o parâmetro \\alpha\n",
    "m = 0.5 # aqui 'm' é o parâmetro \\mu\n",
    "\n",
    "r = np.arange(0, np.sqrt(3/2*a), 000.1)\n",
    "x = np.arange(np.sqrt(3/2*a),10, 000.1)\n",
    "h = 1 - 2*m*r**2*np.exp(-a*r**2)\n",
    "g = 1 - 2*m*(3/2)**(3/2)*np.exp(-3/(2*a))/x\n",
    "plt.plot(r, h, color=\"black\", linewidth=1.5, linestyle=\"-\")\n",
    "plt.plot(x, g, color=\"red\", linewidth=1.5, linestyle=\"-\")\n",
    "\n",
    "#plt.axvline(x=np.sqrt(3/2*a), color=\"red\", label= r'$r = a$')\n",
    "#plt.axvline(x=2*m*(3/2)**(3/2)*np.exp(-3/(2*a)), color=\"blue\", label= r'$r^{sch}_{h} = 2m$')\n",
    "\n",
    "plt.xlabel(r'$r$',fontsize = 14); plt.ylabel(r'$g_{tt}(r)$', fontsize=14)\n",
    "plt.legend(fontsize=16)\n",
    "#plt.savefig('geod.eps', format='eps',dpi = 1200, bbox_inches='tight')\n",
    "plt.show()"
   ]
  },
  {
   "cell_type": "markdown",
   "metadata": {},
   "source": [
    "#### \"Derivando\" a métrica"
   ]
  },
  {
   "cell_type": "code",
   "execution_count": 9,
   "metadata": {},
   "outputs": [
    {
     "name": "stdout",
     "output_type": "stream",
     "text": [
      "Remember that the time coordinate must be the first coordinate.\n",
      "The metric has already been defined. Do you want to overwrite it? (yes/no)yes\n",
      "The metric has been redefined. Standard tensors have been deleted.\n",
      "\n",
      "Dimension = 4\n",
      "Coordinates = t,r,theta,phi\n",
      "Metric defined successfully: \n",
      "\n"
     ]
    },
    {
     "data": {
      "text/latex": [
       "$\\displaystyle ds^2 = \\left(-1 + \\frac{2 \\mu{\\left(r \\right)}}{r}\\right) \\cdot dt^2+\\frac{1}{1 - \\frac{2 \\mu{\\left(r \\right)}}{r}} \\cdot dr^2+r^{2} \\cdot d\\theta^2+r^{2} \\sin^{2}{\\left(\\theta \\right)} \\cdot d\\phi^2$"
      ],
      "text/plain": [
       "<IPython.core.display.Math object>"
      ]
     },
     "metadata": {},
     "output_type": "display_data"
    },
    {
     "data": {
      "text/latex": [
       "$\\displaystyle \\left[\\begin{matrix}-1 + \\frac{2 \\mu{\\left(r \\right)}}{r} & 0 & 0 & 0\\\\0 & \\frac{1}{1 - \\frac{2 \\mu{\\left(r \\right)}}{r}} & 0 & 0\\\\0 & 0 & r^{2} & 0\\\\0 & 0 & 0 & r^{2} \\sin^{2}{\\left(\\theta \\right)}\\end{matrix}\\right]$"
      ],
      "text/plain": [
       "⎡     2⋅μ(r)                            ⎤\n",
       "⎢-1 + ──────      0       0       0     ⎥\n",
       "⎢       r                               ⎥\n",
       "⎢                                       ⎥\n",
       "⎢                 1                     ⎥\n",
       "⎢     0       ──────────  0       0     ⎥\n",
       "⎢                 2⋅μ(r)                ⎥\n",
       "⎢             1 - ──────                ⎥\n",
       "⎢                   r                   ⎥\n",
       "⎢                                       ⎥\n",
       "⎢                          2            ⎥\n",
       "⎢     0           0       r       0     ⎥\n",
       "⎢                                       ⎥\n",
       "⎢                              2    2   ⎥\n",
       "⎣     0           0       0   r ⋅sin (θ)⎦"
      ]
     },
     "metadata": {},
     "output_type": "display_data"
    }
   ],
   "source": [
    "t,r,theta,phi = pt.coords('t,r,theta,phi')\n",
    "mu = pt.fun('mu','r') \n",
    "g = pt.metric('ds2 =-(1 - 2*mu/r)*dt**2 + (1 - 2*mu/r)**(-1)*dr**2 + r**2*dtheta**2 + r**2*(sin(theta))**2*dphi**2 ')\n"
   ]
  },
  {
   "cell_type": "code",
   "execution_count": 10,
   "metadata": {},
   "outputs": [
    {
     "data": {
      "text/latex": [
       "Christoffel $\\Gamma_{\\alpha \\beta \\gamma}$ and $\\Gamma^{\\alpha}_{\\beta \\gamma}$"
      ],
      "text/plain": [
       "<IPython.core.display.Latex object>"
      ]
     },
     "metadata": {},
     "output_type": "display_data"
    },
    {
     "data": {
      "application/vnd.jupyter.widget-view+json": {
       "model_id": "d963a710be564f92b1c44f11a179e5da",
       "version_major": 2,
       "version_minor": 0
      },
      "text/plain": [
       "  0%|          | 0/64 [00:00<?, ?it/s]"
      ]
     },
     "metadata": {},
     "output_type": "display_data"
    },
    {
     "data": {
      "text/latex": [
       "$\\displaystyle {\\Gamma}{}^{0}\\,{}_{0}\\,{}_{1}\\, = - \\frac{r \\frac{d}{d r} \\mu{\\left(r \\right)} - \\mu{\\left(r \\right)}}{r \\left(r - 2 \\mu{\\left(r \\right)}\\right)}$"
      ],
      "text/plain": [
       "<IPython.core.display.Math object>"
      ]
     },
     "metadata": {},
     "output_type": "display_data"
    },
    {
     "data": {
      "text/latex": [
       "$\\displaystyle {\\Gamma}{}^{0}\\,{}_{1}\\,{}_{0}\\, = - \\frac{r \\frac{d}{d r} \\mu{\\left(r \\right)} - \\mu{\\left(r \\right)}}{r \\left(r - 2 \\mu{\\left(r \\right)}\\right)}$"
      ],
      "text/plain": [
       "<IPython.core.display.Math object>"
      ]
     },
     "metadata": {},
     "output_type": "display_data"
    },
    {
     "data": {
      "text/latex": [
       "$\\displaystyle {\\Gamma}{}^{1}\\,{}_{0}\\,{}_{0}\\, = - \\frac{\\left(r - 2 \\mu{\\left(r \\right)}\\right) \\left(r \\frac{d}{d r} \\mu{\\left(r \\right)} - \\mu{\\left(r \\right)}\\right)}{r^{3}}$"
      ],
      "text/plain": [
       "<IPython.core.display.Math object>"
      ]
     },
     "metadata": {},
     "output_type": "display_data"
    },
    {
     "data": {
      "text/latex": [
       "$\\displaystyle {\\Gamma}{}^{1}\\,{}_{1}\\,{}_{1}\\, = \\frac{r \\frac{d}{d r} \\mu{\\left(r \\right)} - \\mu{\\left(r \\right)}}{r \\left(r - 2 \\mu{\\left(r \\right)}\\right)}$"
      ],
      "text/plain": [
       "<IPython.core.display.Math object>"
      ]
     },
     "metadata": {},
     "output_type": "display_data"
    },
    {
     "data": {
      "text/latex": [
       "$\\displaystyle {\\Gamma}{}^{1}\\,{}_{2}\\,{}_{2}\\, = - r + 2 \\mu{\\left(r \\right)}$"
      ],
      "text/plain": [
       "<IPython.core.display.Math object>"
      ]
     },
     "metadata": {},
     "output_type": "display_data"
    },
    {
     "data": {
      "text/latex": [
       "$\\displaystyle {\\Gamma}{}^{1}\\,{}_{3}\\,{}_{3}\\, = - \\left(r - 2 \\mu{\\left(r \\right)}\\right) \\sin^{2}{\\left(\\theta \\right)}$"
      ],
      "text/plain": [
       "<IPython.core.display.Math object>"
      ]
     },
     "metadata": {},
     "output_type": "display_data"
    },
    {
     "data": {
      "text/latex": [
       "$\\displaystyle {\\Gamma}{}^{2}\\,{}_{1}\\,{}_{2}\\, = \\frac{1}{r}$"
      ],
      "text/plain": [
       "<IPython.core.display.Math object>"
      ]
     },
     "metadata": {},
     "output_type": "display_data"
    },
    {
     "data": {
      "text/latex": [
       "$\\displaystyle {\\Gamma}{}^{2}\\,{}_{2}\\,{}_{1}\\, = \\frac{1}{r}$"
      ],
      "text/plain": [
       "<IPython.core.display.Math object>"
      ]
     },
     "metadata": {},
     "output_type": "display_data"
    },
    {
     "data": {
      "text/latex": [
       "$\\displaystyle {\\Gamma}{}^{2}\\,{}_{3}\\,{}_{3}\\, = - \\sin{\\left(\\theta \\right)} \\cos{\\left(\\theta \\right)}$"
      ],
      "text/plain": [
       "<IPython.core.display.Math object>"
      ]
     },
     "metadata": {},
     "output_type": "display_data"
    },
    {
     "data": {
      "text/latex": [
       "$\\displaystyle {\\Gamma}{}^{3}\\,{}_{1}\\,{}_{3}\\, = \\frac{1}{r}$"
      ],
      "text/plain": [
       "<IPython.core.display.Math object>"
      ]
     },
     "metadata": {},
     "output_type": "display_data"
    },
    {
     "data": {
      "text/latex": [
       "$\\displaystyle {\\Gamma}{}^{3}\\,{}_{2}\\,{}_{3}\\, = \\frac{\\cos{\\left(\\theta \\right)}}{\\sin{\\left(\\theta \\right)}}$"
      ],
      "text/plain": [
       "<IPython.core.display.Math object>"
      ]
     },
     "metadata": {},
     "output_type": "display_data"
    },
    {
     "data": {
      "text/latex": [
       "$\\displaystyle {\\Gamma}{}^{3}\\,{}_{3}\\,{}_{1}\\, = \\frac{1}{r}$"
      ],
      "text/plain": [
       "<IPython.core.display.Math object>"
      ]
     },
     "metadata": {},
     "output_type": "display_data"
    },
    {
     "data": {
      "text/latex": [
       "$\\displaystyle {\\Gamma}{}^{3}\\,{}_{3}\\,{}_{2}\\, = \\frac{\\cos{\\left(\\theta \\right)}}{\\sin{\\left(\\theta \\right)}}$"
      ],
      "text/plain": [
       "<IPython.core.display.Math object>"
      ]
     },
     "metadata": {},
     "output_type": "display_data"
    }
   ],
   "source": [
    "Chr = pt.christoffel()\n",
    "Chr.display('^,_,_',aslist=True)"
   ]
  },
  {
   "cell_type": "code",
   "execution_count": 11,
   "metadata": {},
   "outputs": [
    {
     "data": {
      "text/latex": [
       "Riemann Tensor $R^{\\alpha}_{\\beta \\gamma \\delta}$"
      ],
      "text/plain": [
       "<IPython.core.display.Latex object>"
      ]
     },
     "metadata": {},
     "output_type": "display_data"
    },
    {
     "data": {
      "application/vnd.jupyter.widget-view+json": {
       "model_id": "4e791c56d72b4628ae4c6b33e5c2ed3d",
       "version_major": 2,
       "version_minor": 0
      },
      "text/plain": [
       "  0%|          | 0/256 [00:00<?, ?it/s]"
      ]
     },
     "metadata": {},
     "output_type": "display_data"
    },
    {
     "data": {
      "text/latex": [
       "Ricci Tensor $R_{\\alpha \\beta}$"
      ],
      "text/plain": [
       "<IPython.core.display.Latex object>"
      ]
     },
     "metadata": {},
     "output_type": "display_data"
    },
    {
     "data": {
      "application/vnd.jupyter.widget-view+json": {
       "model_id": "1684adcc7e714790ba5f38a0ce5b1e7b",
       "version_major": 2,
       "version_minor": 0
      },
      "text/plain": [
       "  0%|          | 0/16 [00:00<?, ?it/s]"
      ]
     },
     "metadata": {},
     "output_type": "display_data"
    },
    {
     "data": {
      "application/vnd.jupyter.widget-view+json": {
       "model_id": "2e0cc2c8c69645f8b636d7d0d765cb8b",
       "version_major": 2,
       "version_minor": 0
      },
      "text/plain": [
       "  0%|          | 0/16 [00:00<?, ?it/s]"
      ]
     },
     "metadata": {},
     "output_type": "display_data"
    },
    {
     "data": {
      "text/latex": [
       "Ricci Scalar $R$"
      ],
      "text/plain": [
       "<IPython.core.display.Latex object>"
      ]
     },
     "metadata": {},
     "output_type": "display_data"
    },
    {
     "data": {
      "text/latex": [
       "Einstein Tensor $G_{\\alpha \\beta}$"
      ],
      "text/plain": [
       "<IPython.core.display.Latex object>"
      ]
     },
     "metadata": {},
     "output_type": "display_data"
    },
    {
     "data": {
      "application/vnd.jupyter.widget-view+json": {
       "model_id": "dc2aec7358c74f208996835249830241",
       "version_major": 2,
       "version_minor": 0
      },
      "text/plain": [
       "  0%|          | 0/16 [00:00<?, ?it/s]"
      ]
     },
     "metadata": {},
     "output_type": "display_data"
    },
    {
     "data": {
      "text/latex": [
       "$\\displaystyle {G}{}_{0}\\,{}_{0}\\, = \\frac{2 \\left(r - 2 \\mu{\\left(r \\right)}\\right) \\frac{d}{d r} \\mu{\\left(r \\right)}}{r^{3}}$"
      ],
      "text/plain": [
       "<IPython.core.display.Math object>"
      ]
     },
     "metadata": {},
     "output_type": "display_data"
    },
    {
     "data": {
      "text/latex": [
       "$\\displaystyle {G}{}_{1}\\,{}_{1}\\, = - \\frac{2 \\frac{d}{d r} \\mu{\\left(r \\right)}}{r \\left(r - 2 \\mu{\\left(r \\right)}\\right)}$"
      ],
      "text/plain": [
       "<IPython.core.display.Math object>"
      ]
     },
     "metadata": {},
     "output_type": "display_data"
    },
    {
     "data": {
      "text/latex": [
       "$\\displaystyle {G}{}_{2}\\,{}_{2}\\, = - r \\frac{d^{2}}{d r^{2}} \\mu{\\left(r \\right)}$"
      ],
      "text/plain": [
       "<IPython.core.display.Math object>"
      ]
     },
     "metadata": {},
     "output_type": "display_data"
    },
    {
     "data": {
      "text/latex": [
       "$\\displaystyle {G}{}_{3}\\,{}_{3}\\, = - r \\sin^{2}{\\left(\\theta \\right)} \\frac{d^{2}}{d r^{2}} \\mu{\\left(r \\right)}$"
      ],
      "text/plain": [
       "<IPython.core.display.Math object>"
      ]
     },
     "metadata": {},
     "output_type": "display_data"
    }
   ],
   "source": [
    "G = pt.einstein()\n",
    "\n",
    "G.display(\"_,_\", aslist = True)"
   ]
  },
  {
   "cell_type": "markdown",
   "metadata": {},
   "source": [
    "A partir daqui podemos 'deduzir' a métrica suposta acima. Dado que\n",
    "\\begin{align}\n",
    "G^{t}_{\\ t} = 8 \\pi T^{t}_{\\ t} \\implies  -\\frac{2}{r^2} \\frac{d}{dr}\\mu(r) = - 8 \\pi \\rho(r)\n",
    "\\end{align}\n",
    "temos que\n",
    "\\begin{align}\n",
    "\\mu(r) = 4\\pi \\int_0^r \\rho(r) r^2 dr.\n",
    "\\end{align}\n",
    "Supondo que\n",
    "\\begin{align}\n",
    "\\rho(r) = \\frac{\\mu e^{- \\alpha r^2}}{4 \\pi}(3 - 2\\alpha r^2), \\ \\ \\ \\alpha,\\mu > 0\n",
    "\\end{align}\n",
    "obtemos\n",
    "\\begin{align}\n",
    "\\mu(r) = \\mu e^{- \\alpha r^2} r^3,\n",
    "\\end{align}\n",
    "e, portanto,\n",
    "\\begin{align}\n",
    "ds^2 = -(1 - 2\\mu r^2e^{- \\alpha r^2})dt^2 + (1 - 2\\mu r^2e^{- \\alpha r^2})^{-1} dr^2 + r^2 d \\Omega^2.\n",
    "\\end{align}"
   ]
  },
  {
   "cell_type": "markdown",
   "metadata": {},
   "source": [
    "#### Botando o troço pra girar\n",
    "\n",
    "\n",
    "Seguindo o procedimento de Mustapha, Phys. Rev. D 90, 064041 (2014), ou seja, usando o algoritmo de Newman-Janis sem complexificação é possível encontrar uma métrica estacionária a partir da métrica original\n",
    "\\begin{align}\n",
    "ds^2 = -(1 - 2\\mu r^2e^{- \\alpha r^2})dt^2 + (1 - 2\\mu r^2e^{- \\alpha r^2})^{-1} dr^2 + r^2 d \\Omega^2,\n",
    "\\end{align}\n",
    "de tal modo que a transformação de coordenadas EF para coordenadas BL são integráveis. Neste caso, temos\n",
    "\\begin{align}\n",
    "du = dt + \\frac{r^2 + a^2}{r^2 + a^2 - 2\\mu r^4e^{\\alpha r^2}} dr, \\ \\ \\ d \\varphi = d \\phi - \\frac{a}{r^2 + a^2 - 2\\mu r^4e^{\\alpha r^2}}dr,\n",
    "\\end{align}\n",
    "de modo que os elementos da nova métrica são dados por\n",
    "\\begin{align}\n",
    "& g_{tt} = -\\Big(1 - \\frac{2\\mu r^4e^{-\\alpha r^2}}{\\rho^2}\\Big), \\ \\ \\ g_{rr} = \\frac{r^2 + a^2 \\cos^2 \\theta}{r^2 + a^2 - 2\\mu r^4e^{-\\alpha r^2}}, \\ \\ \\ g_{\\theta \\theta} = \\rho^2 := r^2 + a^2 \\cos^2 \\theta, \\\\\n",
    "& g_{t \\phi} = -\\frac{2\\mu ar^4e^{-\\alpha r^2}\\sin^2 \\theta}{\\rho^2}, \\ \\ \\, g_{\\phi \\phi} = \\Big(r^2 + a^2 + \\frac{2\\mu r^4e^{-\\alpha r^2}a^2 \\sin^2 \\theta}{\\rho^2} \\Big)\\sin^2 \\theta. \n",
    "\\end{align}\n",
    "Como $\\lim_{r \\to \\infty} r^4 e^{-\\alpha r^2} = 0$, então é possível ver que a métrica acima é assintoticamente plana, se reduzindo a Minkowski em coordenada esferoidais e tendo uma forma bem parecida com a métrica de Kerr. Para obter Kerr, basta fazer fazer a substituição $r^4e^{-\\alpha r^2} \\to r$.  Ou ainda, podemos ver que tal métrica possui a mesma forma que métrica de Kerr se escrevermos\n",
    "\\begin{align}\n",
    "& g_{tt} = -\\Big(1 - \\frac{2\\mu(r)r}{\\rho^2}\\Big), \\ \\ \\ g_{rr} = \\frac{r^2 + a^2 \\cos^2 \\theta}{r^2 + a^2 - 2\\mu(r)r}, \\ \\ \\ g_{\\theta \\theta} = \\rho^2 := r^2 + a^2 \\cos^2 \\theta, \\\\\n",
    "& g_{t \\phi} = -\\frac{2\\mu(r)ra\\sin^2 \\theta}{\\rho^2}, \\ \\ \\ g_{\\phi \\phi} = \\Big(r^2 + a^2 + \\frac{2\\mu(r)r a^2 \\sin^2 \\theta}{\\rho^2} \\Big)\\sin^2 \\theta. \n",
    "\\end{align}\n",
    "onde $\\mu(r) = \\mu r^3 e^{-\\alpha r^2}$.\n",
    "Além disso, podemos escrever\n",
    "\\begin{align}\n",
    "g_{rr} = \\frac{r^2 + a^2 \\cos^2 \\theta}{\\Delta(r)}, \\ \\ \\ \\Delta(r):= r^2 + a^2 - 2\\mu(r)r, \\ \\ \\ \\mu(r) = \\mu r^3e^{-\\alpha r^2}.\n",
    "\\end{align}\n",
    "\n",
    "#### Condições de Junção\n",
    "\n",
    "Supondo que existe uma fronteira $r = a$ que define a superfície do objeto, seja a métrica interior denotada por $g^-_{\\mu \\nu}$ e a métrica de Kerr por $g^+_{\\mu \\nu}$. Assim, seguindo Drake & Turolla [Class.Quant.Grav. 14 (1997) 1883-1897], seja $\\xi^i = (t, \\theta, \\phi)$ as coordenadas intrínsecas da superfície $\\Sigma$ definida por $r = R(\\theta)$. No nosso caso, $r = R =$ constante, de modo que $n_{\\mu} = - \\sqrt{g_{rr}}\\delta_{\\mu}^{\\ r}$ é ortogonal à $\\Sigma$. Além disso, temos que a métrica induzida em $\\Sigma$ é $h_{ij} = \\frac{\\partial x^{\\mu}}{\\partial \\xi^i}\\frac{\\partial x^{\\nu}}{\\partial \\xi^j} g_{\\mu \\nu}$ enquanto que a curvatura extrínseca é dada por $K_{ij} = \\frac{\\partial x^{\\mu}}{\\partial \\xi^a}\\frac{\\partial x^{\\nu}}{\\partial \\xi^b} \\nabla_{\\nu} n_{\\mu}$ de modo que as condições de junção são caracterizadas por\n",
    "\\begin{align}\n",
    "& g^-_{\\mu \\nu}|_{\\Sigma} = g^{+}_{\\mu \\nu}|_{\\Sigma}, \\ \\ \\ K^-_{ab} = K^+_{ab}, \\ \\ \\ \\Sigma: r = R. \n",
    "\\end{align}\n",
    "Ou seja, temos que\n",
    "\\begin{align}\n",
    "& [h_{tt}] = [g_{tt}] = 0, \\ \\ \\ [h_{t \\phi}] = [g_{t \\phi}] = 0, \\ \\ \\ [h_{\\phi \\phi}] = [g_{\\phi \\phi}] = 0, \\\\\n",
    "& [K_{tt}] = g^{rr}[\\partial_r g_{tt}] = 0, \\ \\ [K_{t\\phi}] = g^{rr}[\\partial_r g_{t\\phi}] = 0, \\ \\ [K_{\\phi \\phi}] = g^{rr}[\\partial_r g_{\\phi \\phi}] = 0.\n",
    "\\end{align}\n",
    "Para o nosso caso, tais condições implicam em\n",
    "\\begin{align}\n",
    "\\mu_-(r) = m_+(r), \\ \\ \\ \\partial_r \\mu_-(r) = \\partial_r m_+(r).\n",
    "\\end{align}\n",
    "de modo que obtemos\n",
    "\\begin{align}\n",
    "\\mu = m \\frac{e^{\\alpha R^2}}{R^3}, \\ \\ \\ R = \\sqrt{\\frac{3}{2\\alpha}}. \n",
    "\\end{align}\n",
    "\n",
    "\n",
    "##### Horizontes\n",
    "Os horizontes são obtidos a partir de\n",
    "\\begin{align}\n",
    "\\Delta(r) = 0  \\implies r^2 + a^2 - 2\\mu r^4e^{-\\alpha r^2} = 0.\n",
    "\\end{align}\n",
    "\n",
    "##### Superfícies estacionárias\n",
    "As superfícies estacionárias são obtidas a partir\n",
    "\\begin{align}\n",
    "g_{tt}(r,\\theta) = 0 \\implies r^2 + a^2\\cos^2\\theta - 2\\mu r^4e^{-\\alpha r^2} = 0\n",
    "\\end{align}\n",
    "\n",
    "\n",
    "\n",
    "Podemos ver que $g_{tt}(r, \\theta) = 0$ e $ \\Delta(r) = 0$ são equações transcendentais, sendo necessário o uso de métodos numéricos para resolvê-las. No entanto, olhemos para os mínimos de $g_{tt}(r, \\theta)$ e $\\Delta(r)$:\n",
    "\n",
    "\\begin{align}\n",
    "\\frac{d}{dr}g_{tt} = \\frac{d}{dr} \\Delta = 2r + 4\\mu r^3(\\alpha r^2 - 2)e^{-\\alpha r^2} = 0 \n",
    "\\end{align}\n",
    "\n",
    "###### Quasi-Horizons?\n",
    "No caso estacionário, a fim de obter quasi-horizontes é necessário olhara para a função shift $N$\n",
    "ao invés de $g_{tt}$, onde neste caso temos que\n",
    "\\begin{align}\n",
    "- N^2 = g_{tt} - \\frac{g_{t \\phi}^2}{g_{\\phi \\phi}}. \n",
    "\\end{align}\n"
   ]
  },
  {
   "cell_type": "code",
   "execution_count": 10,
   "metadata": {},
   "outputs": [
    {
     "name": "stderr",
     "output_type": "stream",
     "text": [
      "No handles with labels found to put in legend.\n"
     ]
    },
    {
     "data": {
      "image/png": "[encoded data removed]",
      "text/plain": [
       "<Figure size 432x288 with 1 Axes>"
      ]
     },
     "metadata": {
      "needs_background": "light"
     },
     "output_type": "display_data"
    }
   ],
   "source": [
    "import matplotlib.pyplot as plt\n",
    "\n",
    "\n",
    "a = 0.1 # aqui 'a' é o parâmetro \\alpha\n",
    "m = 1 # aqui 'm' é o parâmetro \\mu\n",
    "b = 0.1\n",
    "\n",
    "r = np.arange(0, 10, 0.001)\n",
    "h = r**2 + b**2 - 2*m*r**4*np.exp(-a*r**2)\n",
    "#g = 1 - 2*m*(3/2*a)**(3/2)*np.exp(-3/(2))/x\n",
    "plt.plot(r, h, color=\"black\", linewidth=1.5, linestyle=\"-\")\n",
    "#plt.plot(x, g, color=\"red\", linewidth=1.5, linestyle=\"-\")\n",
    "\n",
    "#plt.axvline(x=np.sqrt(3/2*a), color=\"red\", label= r'$r = a$')\n",
    "#plt.axvline(x=2*m*(3/2)**(3/2)*np.exp(-3/(2*a)), color=\"blue\", label= r'$r^{sch}_{h} = 2m$')\n",
    "\n",
    "plt.xlabel(r'$r$',fontsize = 14); plt.ylabel(r'$g_{tt}(r)$', fontsize=14)\n",
    "plt.legend(fontsize=16)\n",
    "#plt.savefig('geod.eps', format='eps',dpi = 1200, bbox_inches='tight')\n",
    "plt.show()"
   ]
  },
  {
   "cell_type": "markdown",
   "metadata": {},
   "source": [
    "#### Métrica em rotação"
   ]
  },
  {
   "cell_type": "code",
   "execution_count": 2,
   "metadata": {},
   "outputs": [
    {
     "name": "stdout",
     "output_type": "stream",
     "text": [
      "Remember that the time coordinate must be the first coordinate.\n",
      "\n",
      "Dimension = 4\n",
      "Coordinates = t,r,theta,phi\n",
      "Metric defined successfully: \n",
      "\n"
     ]
    },
    {
     "data": {
      "text/latex": [
       "$\\displaystyle ds^2 = \\left(\\frac{2 m r^{4}}{b^{2} e^{a r^{2}} \\cos^{2}{\\left(\\theta \\right)} + r^{2} e^{a r^{2}}} - 1\\right) \\cdot dt^2- \\frac{4 b m r^{4} \\sin^{2}{\\left(\\theta \\right)}}{b^{2} e^{a r^{2}} \\cos^{2}{\\left(\\theta \\right)} + r^{2} e^{a r^{2}}} \\cdot dt \\cdot d\\phi+\\left(\\frac{b^{2} \\cos^{2}{\\left(\\theta \\right)}}{b^{2} - 2 m r^{4} e^{- a r^{2}} + r^{2}} + \\frac{r^{2}}{b^{2} - 2 m r^{4} e^{- a r^{2}} + r^{2}}\\right) \\cdot dr^2+\\left(b^{2} \\cos^{2}{\\left(\\theta \\right)} + r^{2}\\right) \\cdot d\\theta^2+\\left(\\frac{2 b^{2} m r^{4} \\sin^{4}{\\left(\\theta \\right)}}{b^{2} e^{a r^{2}} \\cos^{2}{\\left(\\theta \\right)} + r^{2} e^{a r^{2}}} + b^{2} \\sin^{2}{\\left(\\theta \\right)} + r^{2} \\sin^{2}{\\left(\\theta \\right)}\\right) \\cdot d\\phi^2$"
      ],
      "text/plain": [
       "<IPython.core.display.Math object>"
      ]
     },
     "metadata": {},
     "output_type": "display_data"
    },
    {
     "data": {
      "text/latex": [
       "$\\displaystyle \\left[\\begin{matrix}\\frac{2 m r^{4}}{b^{2} e^{a r^{2}} \\cos^{2}{\\left(\\theta \\right)} + r^{2} e^{a r^{2}}} - 1 & 0 & 0 & - \\frac{2 b m r^{4} \\sin^{2}{\\left(\\theta \\right)}}{b^{2} e^{a r^{2}} \\cos^{2}{\\left(\\theta \\right)} + r^{2} e^{a r^{2}}}\\\\0 & \\frac{b^{2} \\cos^{2}{\\left(\\theta \\right)}}{b^{2} - 2 m r^{4} e^{- a r^{2}} + r^{2}} + \\frac{r^{2}}{b^{2} - 2 m r^{4} e^{- a r^{2}} + r^{2}} & 0 & 0\\\\0 & 0 & b^{2} \\cos^{2}{\\left(\\theta \\right)} + r^{2} & 0\\\\- \\frac{2 b m r^{4} \\sin^{2}{\\left(\\theta \\right)}}{b^{2} e^{a r^{2}} \\cos^{2}{\\left(\\theta \\right)} + r^{2} e^{a r^{2}}} & 0 & 0 & \\frac{2 b^{2} m r^{4} \\sin^{4}{\\left(\\theta \\right)}}{b^{2} e^{a r^{2}} \\cos^{2}{\\left(\\theta \\right)} + r^{2} e^{a r^{2}}} + b^{2} \\sin^{2}{\\left(\\theta \\right)} + r^{2} \\sin^{2}{\\left(\\theta \\right)}\\end{matrix}\\right]$"
      ],
      "text/plain": [
       "Matrix([\n",
       "[             2*m*r**4/(b**2*exp(a*r**2)*cos(theta)**2 + r**2*exp(a*r**2)) - 1,                                                                                                     0,                         0,                                             -2*b*m*r**4*sin(theta)**2/(b**2*exp(a*r**2)*cos(theta)**2 + r**2*exp(a*r**2))],\n",
       "[                                                                            0, b**2*cos(theta)**2/(b**2 - 2*m*r**4*exp(-a*r**2) + r**2) + r**2/(b**2 - 2*m*r**4*exp(-a*r**2) + r**2),                         0,                                                                                                                         0],\n",
       "[                                                                            0,                                                                                                     0, b**2*cos(theta)**2 + r**2,                                                                                                                         0],\n",
       "[-2*b*m*r**4*sin(theta)**2/(b**2*exp(a*r**2)*cos(theta)**2 + r**2*exp(a*r**2)),                                                                                                     0,                         0, 2*b**2*m*r**4*sin(theta)**4/(b**2*exp(a*r**2)*cos(theta)**2 + r**2*exp(a*r**2)) + b**2*sin(theta)**2 + r**2*sin(theta)**2]])"
      ]
     },
     "metadata": {},
     "output_type": "display_data"
    }
   ],
   "source": [
    "t,r,theta,phi = pt.coords('t,r,theta,phi')\n",
    "m,a,b = pt.con('m','a','b') \n",
    "g = pt.metric('ds2 =-(1 - (2*m*r**4*exp(-a*r**2))/(r**2 + b**2*(cos(theta))**2))*dt**2 + (r**2 + b**2*(cos(theta))**2)/(r**2 + b**2 - 2*m*r**4*exp(-a*r**2))*dr**2 + (r**2 + b**2*(cos(theta))**2)*dtheta**2 + (r**2 + b**2 + (2*m*r**4*exp(-a*r**2)*b**2*(sin(theta))**2)/(r**2 + b**2*(cos(theta))**2))*(sin(theta))**2*dphi**2 - 2*((2*m*r**4*exp(-a*r**2)*b*(sin(theta))**2)/(r**2 + b**2*(cos(theta))**2))*dt*dphi')\n"
   ]
  },
  {
   "cell_type": "code",
   "execution_count": 2,
   "metadata": {},
   "outputs": [
    {
     "name": "stdout",
     "output_type": "stream",
     "text": [
      "Remember that the time coordinate must be the first coordinate.\n",
      "\n",
      "Dimension = 4\n",
      "Coordinates = t,r,theta,phi\n",
      "Metric defined successfully: \n",
      "\n"
     ]
    },
    {
     "data": {
      "text/latex": [
       "$\\displaystyle ds^2 = - B{\\left(r \\right)} \\cdot dt^2+A{\\left(r \\right)} \\cdot dr^2+r^{2} \\cdot d\\theta^2+r^{2} \\sin^{2}{\\left(\\theta \\right)} \\cdot d\\phi^2$"
      ],
      "text/plain": [
       "<IPython.core.display.Math object>"
      ]
     },
     "metadata": {},
     "output_type": "display_data"
    },
    {
     "data": {
      "text/latex": [
       "$\\displaystyle \\left[\\begin{matrix}- B{\\left(r \\right)} & 0 & 0 & 0\\\\0 & A{\\left(r \\right)} & 0 & 0\\\\0 & 0 & r^{2} & 0\\\\0 & 0 & 0 & r^{2} \\sin^{2}{\\left(\\theta \\right)}\\end{matrix}\\right]$"
      ],
      "text/plain": [
       "Matrix([\n",
       "[-B(r),    0,    0,                  0],\n",
       "[    0, A(r),    0,                  0],\n",
       "[    0,    0, r**2,                  0],\n",
       "[    0,    0,    0, r**2*sin(theta)**2]])"
      ]
     },
     "metadata": {},
     "output_type": "display_data"
    }
   ],
   "source": [
    "t,r,theta,phi = pt.coords('t,r,theta,phi')\n",
    "A = pt.fun('A','r')\n",
    "B = pt.fun('B','r')\n",
    "#C = pt.fun('C','r')\n",
    "\n",
    "\n",
    "g = pt.metric('ds2 =-B*dt**2 + A*dr**2 + r**2*dtheta**2 + r**2*(sin(theta))**2*dphi**2 ')\n"
   ]
  },
  {
   "cell_type": "code",
   "execution_count": 3,
   "metadata": {},
   "outputs": [
    {
     "data": {
      "text/latex": [
       "Christoffel $\\Gamma_{\\alpha \\beta \\gamma}$ and $\\Gamma^{\\alpha}_{\\beta \\gamma}$"
      ],
      "text/plain": [
       "<IPython.core.display.Latex object>"
      ]
     },
     "metadata": {},
     "output_type": "display_data"
    },
    {
     "data": {
      "application/vnd.jupyter.widget-view+json": {
       "model_id": "bbb1435f0df34a6381eac456a7fd4be8",
       "version_major": 2,
       "version_minor": 0
      },
      "text/plain": [
       "  0%|          | 0/64 [00:00<?, ?it/s]"
      ]
     },
     "metadata": {},
     "output_type": "display_data"
    },
    {
     "data": {
      "text/latex": [
       "$\\displaystyle {\\Gamma}{}^{0}\\,{}_{0}\\,{}_{1}\\, = \\frac{\\frac{d}{d r} B{\\left(r \\right)}}{2 B{\\left(r \\right)}}$"
      ],
      "text/plain": [
       "<IPython.core.display.Math object>"
      ]
     },
     "metadata": {},
     "output_type": "display_data"
    },
    {
     "data": {
      "text/latex": [
       "$\\displaystyle {\\Gamma}{}^{0}\\,{}_{1}\\,{}_{0}\\, = \\frac{\\frac{d}{d r} B{\\left(r \\right)}}{2 B{\\left(r \\right)}}$"
      ],
      "text/plain": [
       "<IPython.core.display.Math object>"
      ]
     },
     "metadata": {},
     "output_type": "display_data"
    },
    {
     "data": {
      "text/latex": [
       "$\\displaystyle {\\Gamma}{}^{1}\\,{}_{0}\\,{}_{0}\\, = \\frac{\\frac{d}{d r} B{\\left(r \\right)}}{2 A{\\left(r \\right)}}$"
      ],
      "text/plain": [
       "<IPython.core.display.Math object>"
      ]
     },
     "metadata": {},
     "output_type": "display_data"
    },
    {
     "data": {
      "text/latex": [
       "$\\displaystyle {\\Gamma}{}^{1}\\,{}_{1}\\,{}_{1}\\, = \\frac{\\frac{d}{d r} A{\\left(r \\right)}}{2 A{\\left(r \\right)}}$"
      ],
      "text/plain": [
       "<IPython.core.display.Math object>"
      ]
     },
     "metadata": {},
     "output_type": "display_data"
    },
    {
     "data": {
      "text/latex": [
       "$\\displaystyle {\\Gamma}{}^{1}\\,{}_{2}\\,{}_{2}\\, = - \\frac{r}{A{\\left(r \\right)}}$"
      ],
      "text/plain": [
       "<IPython.core.display.Math object>"
      ]
     },
     "metadata": {},
     "output_type": "display_data"
    },
    {
     "data": {
      "text/latex": [
       "$\\displaystyle {\\Gamma}{}^{1}\\,{}_{3}\\,{}_{3}\\, = - \\frac{r \\sin^{2}{\\left(\\theta \\right)}}{A{\\left(r \\right)}}$"
      ],
      "text/plain": [
       "<IPython.core.display.Math object>"
      ]
     },
     "metadata": {},
     "output_type": "display_data"
    },
    {
     "data": {
      "text/latex": [
       "$\\displaystyle {\\Gamma}{}^{2}\\,{}_{1}\\,{}_{2}\\, = \\frac{1}{r}$"
      ],
      "text/plain": [
       "<IPython.core.display.Math object>"
      ]
     },
     "metadata": {},
     "output_type": "display_data"
    },
    {
     "data": {
      "text/latex": [
       "$\\displaystyle {\\Gamma}{}^{2}\\,{}_{2}\\,{}_{1}\\, = \\frac{1}{r}$"
      ],
      "text/plain": [
       "<IPython.core.display.Math object>"
      ]
     },
     "metadata": {},
     "output_type": "display_data"
    },
    {
     "data": {
      "text/latex": [
       "$\\displaystyle {\\Gamma}{}^{2}\\,{}_{3}\\,{}_{3}\\, = - \\sin{\\left(\\theta \\right)} \\cos{\\left(\\theta \\right)}$"
      ],
      "text/plain": [
       "<IPython.core.display.Math object>"
      ]
     },
     "metadata": {},
     "output_type": "display_data"
    },
    {
     "data": {
      "text/latex": [
       "$\\displaystyle {\\Gamma}{}^{3}\\,{}_{1}\\,{}_{3}\\, = \\frac{1}{r}$"
      ],
      "text/plain": [
       "<IPython.core.display.Math object>"
      ]
     },
     "metadata": {},
     "output_type": "display_data"
    },
    {
     "data": {
      "text/latex": [
       "$\\displaystyle {\\Gamma}{}^{3}\\,{}_{2}\\,{}_{3}\\, = \\frac{\\cos{\\left(\\theta \\right)}}{\\sin{\\left(\\theta \\right)}}$"
      ],
      "text/plain": [
       "<IPython.core.display.Math object>"
      ]
     },
     "metadata": {},
     "output_type": "display_data"
    },
    {
     "data": {
      "text/latex": [
       "$\\displaystyle {\\Gamma}{}^{3}\\,{}_{3}\\,{}_{1}\\, = \\frac{1}{r}$"
      ],
      "text/plain": [
       "<IPython.core.display.Math object>"
      ]
     },
     "metadata": {},
     "output_type": "display_data"
    },
    {
     "data": {
      "text/latex": [
       "$\\displaystyle {\\Gamma}{}^{3}\\,{}_{3}\\,{}_{2}\\, = \\frac{\\cos{\\left(\\theta \\right)}}{\\sin{\\left(\\theta \\right)}}$"
      ],
      "text/plain": [
       "<IPython.core.display.Math object>"
      ]
     },
     "metadata": {},
     "output_type": "display_data"
    }
   ],
   "source": [
    "Chr = pt.christoffel()\n",
    "Chr.display('^,_,_',aslist=True)"
   ]
  },
  {
   "cell_type": "code",
   "execution_count": 4,
   "metadata": {},
   "outputs": [
    {
     "data": {
      "text/latex": [
       "Riemann Tensor $R^{\\alpha}_{\\beta \\gamma \\delta}$"
      ],
      "text/plain": [
       "<IPython.core.display.Latex object>"
      ]
     },
     "metadata": {},
     "output_type": "display_data"
    },
    {
     "data": {
      "application/vnd.jupyter.widget-view+json": {
       "model_id": "8137a1bfa37347e3852721fe6e995f5d",
       "version_major": 2,
       "version_minor": 0
      },
      "text/plain": [
       "  0%|          | 0/256 [00:00<?, ?it/s]"
      ]
     },
     "metadata": {},
     "output_type": "display_data"
    },
    {
     "data": {
      "text/latex": [
       "Ricci Tensor $R_{\\alpha \\beta}$"
      ],
      "text/plain": [
       "<IPython.core.display.Latex object>"
      ]
     },
     "metadata": {},
     "output_type": "display_data"
    },
    {
     "data": {
      "application/vnd.jupyter.widget-view+json": {
       "model_id": "b81418e3d50c4aa386e09fdceca7147f",
       "version_major": 2,
       "version_minor": 0
      },
      "text/plain": [
       "  0%|          | 0/16 [00:00<?, ?it/s]"
      ]
     },
     "metadata": {},
     "output_type": "display_data"
    },
    {
     "data": {
      "text/latex": [
       "$\\displaystyle {R}{}_{0}\\,{}_{0}\\, = \\frac{2 r A{\\left(r \\right)} B{\\left(r \\right)} \\frac{d^{2}}{d r^{2}} B{\\left(r \\right)} - r A{\\left(r \\right)} \\left(\\frac{d}{d r} B{\\left(r \\right)}\\right)^{2} - r B{\\left(r \\right)} \\frac{d}{d r} A{\\left(r \\right)} \\frac{d}{d r} B{\\left(r \\right)} + 4 A{\\left(r \\right)} B{\\left(r \\right)} \\frac{d}{d r} B{\\left(r \\right)}}{4 r A^{2}{\\left(r \\right)} B{\\left(r \\right)}}$"
      ],
      "text/plain": [
       "<IPython.core.display.Math object>"
      ]
     },
     "metadata": {},
     "output_type": "display_data"
    },
    {
     "data": {
      "text/latex": [
       "$\\displaystyle {R}{}_{1}\\,{}_{1}\\, = - \\frac{2 r A{\\left(r \\right)} B{\\left(r \\right)} \\frac{d^{2}}{d r^{2}} B{\\left(r \\right)} - r A{\\left(r \\right)} \\left(\\frac{d}{d r} B{\\left(r \\right)}\\right)^{2} - r B{\\left(r \\right)} \\frac{d}{d r} A{\\left(r \\right)} \\frac{d}{d r} B{\\left(r \\right)} - 4 B^{2}{\\left(r \\right)} \\frac{d}{d r} A{\\left(r \\right)}}{4 r A{\\left(r \\right)} B^{2}{\\left(r \\right)}}$"
      ],
      "text/plain": [
       "<IPython.core.display.Math object>"
      ]
     },
     "metadata": {},
     "output_type": "display_data"
    },
    {
     "data": {
      "text/latex": [
       "$\\displaystyle {R}{}_{2}\\,{}_{2}\\, = - \\frac{r A{\\left(r \\right)} \\frac{d}{d r} B{\\left(r \\right)} - r B{\\left(r \\right)} \\frac{d}{d r} A{\\left(r \\right)} - 2 A^{2}{\\left(r \\right)} B{\\left(r \\right)} + 2 A{\\left(r \\right)} B{\\left(r \\right)}}{2 A^{2}{\\left(r \\right)} B{\\left(r \\right)}}$"
      ],
      "text/plain": [
       "<IPython.core.display.Math object>"
      ]
     },
     "metadata": {},
     "output_type": "display_data"
    },
    {
     "data": {
      "text/latex": [
       "$\\displaystyle {R}{}_{3}\\,{}_{3}\\, = - \\frac{\\left(r A{\\left(r \\right)} \\frac{d}{d r} B{\\left(r \\right)} - r B{\\left(r \\right)} \\frac{d}{d r} A{\\left(r \\right)} - 2 A^{2}{\\left(r \\right)} B{\\left(r \\right)} + 2 A{\\left(r \\right)} B{\\left(r \\right)}\\right) \\sin^{2}{\\left(\\theta \\right)}}{2 A^{2}{\\left(r \\right)} B{\\left(r \\right)}}$"
      ],
      "text/plain": [
       "<IPython.core.display.Math object>"
      ]
     },
     "metadata": {},
     "output_type": "display_data"
    }
   ],
   "source": [
    "Ric = pt.ricci()\n",
    "\n",
    "Ric.display(\"_,_\", aslist = True)"
   ]
  },
  {
   "cell_type": "code",
   "execution_count": 5,
   "metadata": {},
   "outputs": [
    {
     "data": {
      "application/vnd.jupyter.widget-view+json": {
       "model_id": "6faa8c7a97524388a0e9cfd53a85045d",
       "version_major": 2,
       "version_minor": 0
      },
      "text/plain": [
       "  0%|          | 0/16 [00:00<?, ?it/s]"
      ]
     },
     "metadata": {},
     "output_type": "display_data"
    },
    {
     "data": {
      "text/latex": [
       "Ricci Scalar $R$"
      ],
      "text/plain": [
       "<IPython.core.display.Latex object>"
      ]
     },
     "metadata": {},
     "output_type": "display_data"
    },
    {
     "data": {
      "text/latex": [
       "Einstein Tensor $G_{\\alpha \\beta}$"
      ],
      "text/plain": [
       "<IPython.core.display.Latex object>"
      ]
     },
     "metadata": {},
     "output_type": "display_data"
    },
    {
     "data": {
      "application/vnd.jupyter.widget-view+json": {
       "model_id": "9099fb8bd7514061b6603c4c4f18dc0b",
       "version_major": 2,
       "version_minor": 0
      },
      "text/plain": [
       "  0%|          | 0/16 [00:00<?, ?it/s]"
      ]
     },
     "metadata": {},
     "output_type": "display_data"
    },
    {
     "data": {
      "text/latex": [
       "$\\displaystyle {G}{}_{0}\\,{}_{0}\\, = \\frac{\\left(r \\frac{d}{d r} A{\\left(r \\right)} + A^{2}{\\left(r \\right)} - A{\\left(r \\right)}\\right) B{\\left(r \\right)}}{r^{2} A^{2}{\\left(r \\right)}}$"
      ],
      "text/plain": [
       "<IPython.core.display.Math object>"
      ]
     },
     "metadata": {},
     "output_type": "display_data"
    },
    {
     "data": {
      "text/latex": [
       "$\\displaystyle {G}{}_{1}\\,{}_{1}\\, = \\frac{r \\frac{d}{d r} B{\\left(r \\right)} - A{\\left(r \\right)} B{\\left(r \\right)} + B{\\left(r \\right)}}{r^{2} B{\\left(r \\right)}}$"
      ],
      "text/plain": [
       "<IPython.core.display.Math object>"
      ]
     },
     "metadata": {},
     "output_type": "display_data"
    },
    {
     "data": {
      "text/latex": [
       "$\\displaystyle {G}{}_{2}\\,{}_{2}\\, = \\frac{r \\left(2 r A{\\left(r \\right)} B{\\left(r \\right)} \\frac{d^{2}}{d r^{2}} B{\\left(r \\right)} - r A{\\left(r \\right)} \\left(\\frac{d}{d r} B{\\left(r \\right)}\\right)^{2} - r B{\\left(r \\right)} \\frac{d}{d r} A{\\left(r \\right)} \\frac{d}{d r} B{\\left(r \\right)} + 2 A{\\left(r \\right)} B{\\left(r \\right)} \\frac{d}{d r} B{\\left(r \\right)} - 2 B^{2}{\\left(r \\right)} \\frac{d}{d r} A{\\left(r \\right)}\\right)}{4 A^{2}{\\left(r \\right)} B^{2}{\\left(r \\right)}}$"
      ],
      "text/plain": [
       "<IPython.core.display.Math object>"
      ]
     },
     "metadata": {},
     "output_type": "display_data"
    },
    {
     "data": {
      "text/latex": [
       "$\\displaystyle {G}{}_{3}\\,{}_{3}\\, = \\frac{r \\left(2 r A{\\left(r \\right)} B{\\left(r \\right)} \\frac{d^{2}}{d r^{2}} B{\\left(r \\right)} - r A{\\left(r \\right)} \\left(\\frac{d}{d r} B{\\left(r \\right)}\\right)^{2} - r B{\\left(r \\right)} \\frac{d}{d r} A{\\left(r \\right)} \\frac{d}{d r} B{\\left(r \\right)} + 2 A{\\left(r \\right)} B{\\left(r \\right)} \\frac{d}{d r} B{\\left(r \\right)} - 2 B^{2}{\\left(r \\right)} \\frac{d}{d r} A{\\left(r \\right)}\\right) \\sin^{2}{\\left(\\theta \\right)}}{4 A^{2}{\\left(r \\right)} B^{2}{\\left(r \\right)}}$"
      ],
      "text/plain": [
       "<IPython.core.display.Math object>"
      ]
     },
     "metadata": {},
     "output_type": "display_data"
    }
   ],
   "source": [
    "G = pt.einstein()\n",
    "\n",
    "G.display(\"_,_\", aslist = True)"
   ]
  },
  {
   "cell_type": "code",
   "execution_count": 13,
   "metadata": {},
   "outputs": [
    {
     "name": "stdout",
     "output_type": "stream",
     "text": [
      "Remember that the time coordinate must be the first coordinate.\n",
      "Constant(s) already defined.\n",
      "Function m(r) is already defined\n",
      "The metric has already been defined. Do you want to overwrite it? (yes/no)yes\n",
      "The metric has been redefined. Standard tensors have been deleted.\n",
      "\n",
      "Dimension = 4\n",
      "Coordinates = t,r,theta,phi\n",
      "Metric defined successfully: \n",
      "\n"
     ]
    },
    {
     "data": {
      "text/latex": [
       "$\\displaystyle ds^2 = \\left(\\frac{2 r m{\\left(r \\right)}}{a^{2} \\cos^{2}{\\left(\\theta \\right)} + r^{2}} - 1\\right) \\cdot dt^2- \\frac{4 a r m{\\left(r \\right)} \\sin^{2}{\\left(\\theta \\right)}}{a^{2} \\cos^{2}{\\left(\\theta \\right)} + r^{2}} \\cdot dt \\cdot d\\phi+\\left(\\frac{a^{2} \\cos^{2}{\\left(\\theta \\right)}}{a^{2} + r^{2} - 2 r m{\\left(r \\right)}} + \\frac{r^{2}}{a^{2} + r^{2} - 2 r m{\\left(r \\right)}}\\right) \\cdot dr^2+\\left(a^{2} \\cos^{2}{\\left(\\theta \\right)} + r^{2}\\right) \\cdot d\\theta^2+\\left(\\frac{2 a^{2} r m{\\left(r \\right)} \\sin^{4}{\\left(\\theta \\right)}}{a^{2} \\cos^{2}{\\left(\\theta \\right)} + r^{2}} + a^{2} \\sin^{2}{\\left(\\theta \\right)} + r^{2} \\sin^{2}{\\left(\\theta \\right)}\\right) \\cdot d\\phi^2$"
      ],
      "text/plain": [
       "<IPython.core.display.Math object>"
      ]
     },
     "metadata": {},
     "output_type": "display_data"
    },
    {
     "data": {
      "text/latex": [
       "$\\displaystyle \\left[\\begin{matrix}\\frac{2 r m{\\left(r \\right)}}{a^{2} \\cos^{2}{\\left(\\theta \\right)} + r^{2}} - 1 & 0 & 0 & - \\frac{2 a r m{\\left(r \\right)} \\sin^{2}{\\left(\\theta \\right)}}{a^{2} \\cos^{2}{\\left(\\theta \\right)} + r^{2}}\\\\0 & \\frac{a^{2} \\cos^{2}{\\left(\\theta \\right)}}{a^{2} + r^{2} - 2 r m{\\left(r \\right)}} + \\frac{r^{2}}{a^{2} + r^{2} - 2 r m{\\left(r \\right)}} & 0 & 0\\\\0 & 0 & a^{2} \\cos^{2}{\\left(\\theta \\right)} + r^{2} & 0\\\\- \\frac{2 a r m{\\left(r \\right)} \\sin^{2}{\\left(\\theta \\right)}}{a^{2} \\cos^{2}{\\left(\\theta \\right)} + r^{2}} & 0 & 0 & \\frac{2 a^{2} r m{\\left(r \\right)} \\sin^{4}{\\left(\\theta \\right)}}{a^{2} \\cos^{2}{\\left(\\theta \\right)} + r^{2}} + a^{2} \\sin^{2}{\\left(\\theta \\right)} + r^{2} \\sin^{2}{\\left(\\theta \\right)}\\end{matrix}\\right]$"
      ],
      "text/plain": [
       "Matrix([\n",
       "[             2*r*m(r)/(a**2*cos(theta)**2 + r**2) - 1,                                                                           0,                         0,                                             -2*a*r*m(r)*sin(theta)**2/(a**2*cos(theta)**2 + r**2)],\n",
       "[                                                    0, a**2*cos(theta)**2/(a**2 + r**2 - 2*r*m(r)) + r**2/(a**2 + r**2 - 2*r*m(r)),                         0,                                                                                                 0],\n",
       "[                                                    0,                                                                           0, a**2*cos(theta)**2 + r**2,                                                                                                 0],\n",
       "[-2*a*r*m(r)*sin(theta)**2/(a**2*cos(theta)**2 + r**2),                                                                           0,                         0, 2*a**2*r*m(r)*sin(theta)**4/(a**2*cos(theta)**2 + r**2) + a**2*sin(theta)**2 + r**2*sin(theta)**2]])"
      ]
     },
     "metadata": {},
     "output_type": "display_data"
    }
   ],
   "source": [
    "t,r,theta,phi = pt.coords('t,r,theta,phi')\n",
    "a = pt.con('a')\n",
    "m = pt.fun('m','r')\n",
    "g = pt.metric('ds2 =-(1 - (2*m*r)/(r**2 + a**2*(cos(theta))**2))*dt**2 + (r**2 + a**2*(cos(theta))**2)/(r**2 + a**2 - 2*m*r)*dr**2 + (r**2 + a**2*(cos(theta))**2)*dtheta**2 + (r**2 + a**2 + (2*m*r*a**2*(sin(theta))**2)/(r**2 + a**2*(cos(theta))**2))*(sin(theta))**2*dphi**2 - 2*((2*m*r*a*(sin(theta))**2)/(r**2 + a**2*(cos(theta))**2))*dt*dphi')\n"
   ]
  },
  {
   "cell_type": "code",
   "execution_count": 2,
   "metadata": {
    "scrolled": true
   },
   "outputs": [
    {
     "name": "stdout",
     "output_type": "stream",
     "text": [
      "Remember that the time coordinate must be the first coordinate.\n",
      "\n",
      "Dimension = 4\n",
      "Coordinates = t,r,theta,phi\n",
      "Metric defined successfully: \n",
      "\n"
     ]
    },
    {
     "data": {
      "text/latex": [
       "$\\displaystyle ds^2 = \\left(\\frac{2 r M{\\left(r \\right)}}{a^{2} \\cos^{2}{\\left(\\theta \\right)} + r^{2}} - 1\\right) \\cdot dt^2- \\frac{4 a r M{\\left(r \\right)} \\sin^{2}{\\left(\\theta \\right)}}{a^{2} \\cos^{2}{\\left(\\theta \\right)} + r^{2}} \\cdot dt \\cdot d\\phi+\\left(\\frac{a^{2} \\cos^{2}{\\left(\\theta \\right)}}{a^{2} + r^{2} - 2 r M{\\left(r \\right)}} + \\frac{r^{2}}{a^{2} + r^{2} - 2 r M{\\left(r \\right)}}\\right) \\cdot dr^2+\\left(a^{2} \\cos^{2}{\\left(\\theta \\right)} + r^{2}\\right) \\cdot d\\theta^2+\\left(\\frac{2 a^{2} r M{\\left(r \\right)} \\sin^{4}{\\left(\\theta \\right)}}{a^{2} \\cos^{2}{\\left(\\theta \\right)} + r^{2}} + a^{2} \\sin^{2}{\\left(\\theta \\right)} + r^{2} \\sin^{2}{\\left(\\theta \\right)}\\right) \\cdot d\\phi^2$"
      ],
      "text/plain": [
       "<IPython.core.display.Math object>"
      ]
     },
     "metadata": {},
     "output_type": "display_data"
    },
    {
     "data": {
      "text/latex": [
       "$\\displaystyle \\left[\\begin{matrix}\\frac{2 r M{\\left(r \\right)}}{a^{2} \\cos^{2}{\\left(\\theta \\right)} + r^{2}} - 1 & 0 & 0 & - \\frac{2 a r M{\\left(r \\right)} \\sin^{2}{\\left(\\theta \\right)}}{a^{2} \\cos^{2}{\\left(\\theta \\right)} + r^{2}}\\\\0 & \\frac{a^{2} \\cos^{2}{\\left(\\theta \\right)}}{a^{2} + r^{2} - 2 r M{\\left(r \\right)}} + \\frac{r^{2}}{a^{2} + r^{2} - 2 r M{\\left(r \\right)}} & 0 & 0\\\\0 & 0 & a^{2} \\cos^{2}{\\left(\\theta \\right)} + r^{2} & 0\\\\- \\frac{2 a r M{\\left(r \\right)} \\sin^{2}{\\left(\\theta \\right)}}{a^{2} \\cos^{2}{\\left(\\theta \\right)} + r^{2}} & 0 & 0 & \\frac{2 a^{2} r M{\\left(r \\right)} \\sin^{4}{\\left(\\theta \\right)}}{a^{2} \\cos^{2}{\\left(\\theta \\right)} + r^{2}} + a^{2} \\sin^{2}{\\left(\\theta \\right)} + r^{2} \\sin^{2}{\\left(\\theta \\right)}\\end{matrix}\\right]$"
      ],
      "text/plain": [
       "Matrix([\n",
       "[             2*r*M(r)/(a**2*cos(theta)**2 + r**2) - 1,                                                                           0,                         0,                                             -2*a*r*M(r)*sin(theta)**2/(a**2*cos(theta)**2 + r**2)],\n",
       "[                                                    0, a**2*cos(theta)**2/(a**2 + r**2 - 2*r*M(r)) + r**2/(a**2 + r**2 - 2*r*M(r)),                         0,                                                                                                 0],\n",
       "[                                                    0,                                                                           0, a**2*cos(theta)**2 + r**2,                                                                                                 0],\n",
       "[-2*a*r*M(r)*sin(theta)**2/(a**2*cos(theta)**2 + r**2),                                                                           0,                         0, 2*a**2*r*M(r)*sin(theta)**4/(a**2*cos(theta)**2 + r**2) + a**2*sin(theta)**2 + r**2*sin(theta)**2]])"
      ]
     },
     "metadata": {},
     "output_type": "display_data"
    }
   ],
   "source": [
    "t,r,theta,phi = pt.coords('t,r,theta,phi')\n",
    "a = pt.con('a')\n",
    "M = pt.fun('M','r')\n",
    "g = pt.metric('ds2 =-(1 - (2*M*r/(r**2 + a**2*(cos(theta))**2)))*dt**2 + (r**2 + a**2*(cos(theta))**2)/(r**2 + a**2 - 2*M*r)*dr**2 + (r**2 + a**2*(cos(theta))**2)*dtheta**2 + (r**2 + a**2 + (2*M*r*a**2*(sin(theta))**2)/(r**2 + a**2*(cos(theta))**2))*(sin(theta))**2*dphi**2 - 4*((M*r*a*(sin(theta))**2)/(r**2 + a**2*(cos(theta))**2))*dt*dphi')\n"
   ]
  }
 ],
 "metadata": {
  "kernelspec": {
   "display_name": "Python 3",
   "language": "python",
   "name": "python3"
  },
  "language_info": {
   "codemirror_mode": {
    "name": "ipython",
    "version": 3
   },
   "file_extension": ".py",
   "mimetype": "text/x-python",
   "name": "python",
   "nbconvert_exporter": "python",
   "pygments_lexer": "ipython3",
   "version": "3.7.6"
  }
 },
 "nbformat": 4,
 "nbformat_minor": 4
}
